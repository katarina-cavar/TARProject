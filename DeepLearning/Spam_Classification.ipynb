{
 "cells": [
  {
   "cell_type": "markdown",
   "metadata": {},
   "source": [
    "# SMS Spam Classification"
   ]
  },
  {
   "cell_type": "code",
   "execution_count": 2,
   "metadata": {},
   "outputs": [],
   "source": [
    "# Imports\n",
    "import random\n",
    "from random import shuffle\n",
    "import numpy as np "
   ]
  },
  {
   "cell_type": "code",
   "execution_count": 11,
   "metadata": {},
   "outputs": [
    {
     "name": "stdout",
     "output_type": "stream",
     "text": [
      "153\n"
     ]
    }
   ],
   "source": [
    "#Stopwords list from https://github.com/Yoast/YoastSEO.js/blob/develop/src/config/stopwords.js\n",
    "stopwords = [ \"a\", \"about\", \"above\", \"after\", \"again\", \"against\", \"all\", \"am\", \"an\",\n",
    "            \"and\", \"any\", \"are\", \"as\", \"at\", \"be\", \"because\", \"been\", \"before\", \"being\", \n",
    "            \"below\", \"between\", \"both\", \"but\", \"by\", \"could\", \"did\", \"do\", \"does\", \"doing\", \n",
    "            \"down\", \"during\", \"each\", \"few\", \"for\", \"from\", \"further\", \"had\", \"has\", \"have\", \n",
    "            \"having\", \"he\", \"he'd\", \"he'll\", \"he's\", \"her\", \"here\", \"here's\", \"hers\", \n",
    "            \"herself\", \"him\", \"himself\", \"his\", \"how\", \"how's\", \"i\", \"i'd\", \"i'll\", \"i'm\", \n",
    "            \"i've\", \"if\", \"in\", \"into\", \"is\", \"it\", \"it's\", \"its\", \"itself\", \"let's\", \"me\", \n",
    "            \"more\", \"most\", \"my\", \"myself\", \"nor\", \"of\", \"on\", \"once\", \"only\", \"or\", \"other\", \n",
    "            \"ought\", \"our\", \"ours\", \"ourselves\", \"out\", \"over\", \"own\", \"same\", \"she\", \"she'd\", \n",
    "            \"she'll\", \"she's\", \"should\", \"so\", \"some\", \"such\", \"than\", \"that\", \"that's\", \"the\", \n",
    "            \"their\", \"theirs\", \"them\", \"themselves\", \"then\", \"there\", \"there's\", \"these\", \"they\", \n",
    "            \"they'd\", \"they'll\", \"they're\", \"they've\", \"this\", \"those\", \"through\", \"to\", \"too\", \n",
    "            \"under\", \"until\", \"up\", \"very\", \"was\", \"we\", \"we'd\", \"we'll\", \"we're\", \"we've\", \"were\", \n",
    "            \"what\", \"what's\", \"when\", \"when's\", \"where\", \"where's\", \"which\", \"while\", \"who\", \"who's\", \n",
    "            \"whom\", \"why\", \"why's\", \"with\", \"would\", \"you\", \"you'd\", \"you'll\", \"you're\", \"you've\", \n",
    "            \"your\", \"yours\", \"yourself\", \"yourselves\"]\n",
    "print(len(stopwords))"
   ]
  },
  {
   "cell_type": "code",
   "execution_count": 8,
   "metadata": {},
   "outputs": [
    {
     "name": "stdout",
     "output_type": "stream",
     "text": [
      "<class 'list'>\n",
      "<class 'list'>\n",
      "5574 5574\n",
      "\t Go jurong point, crazy.. Available bugis n great world la e buffet... Cine got amore wat...\n",
      "\t Ok lar... Joking wif u oni...\n",
      "\t Free entry 2 wkly comp win FA Cup final tkts 21st May 2005. Text FA 87121 receive entry question(std txt rate)T&C's apply 08452810075over18's\n",
      "\t U dun say early hor... U c already say...\n",
      "\t Nah I don't think goes usf, lives around though\n",
      "\t FreeMsg Hey darling 3 week's now no word back! I'd like fun still? Tb ok! XxX std chgs send, Â£1.50 rcv\n",
      "\t Even brother not like speak me. They treat like aids patent.\n",
      "\t As per request 'Melle Melle (Oru Minnaminunginte Nurungu Vettam)' set callertune Callers. Press *9 copy friends Callertune\n",
      "\t WINNER!! As valued network customer selected receivea Â£900 prize reward! To claim call 09061701461. Claim code KL341. Valid 12 hours only.\n",
      "\t Had mobile 11 months more? U R entitled Update latest colour mobiles camera Free! Call The Mobile Update Co FREE 08002986030\n",
      "['ham', 'ham', 'spam', 'ham', 'ham', 'spam', 'ham', 'ham', 'spam', 'spam']\n"
     ]
    }
   ],
   "source": [
    "spam_file = open(\"smsspamcollection/SMSSpamCollection\", \"r\")\n",
    "\n",
    "messages = []\n",
    "labels = []\n",
    "\n",
    "i = 0\n",
    "for sms in spam_file: \n",
    "    sms = sms.strip().split(\"\\t\")\n",
    "    #print(sms)\n",
    "\n",
    "    labels.append(sms[0])\n",
    "    message = sms[1]\n",
    "    for word in stopwords:\n",
    "        token = \" \" + word + \" \"\n",
    "        message = message.replace(token, \" \")\n",
    "        message = message.replace(\"  \", \" \")\n",
    "    messages.append(message)\n",
    "\n",
    "print(type(messages))\n",
    "print(type(labels))\n",
    "print(len(messages), len(labels))\n",
    "\n",
    "for m in messages[:10]:\n",
    "    print(\"\\t\", m)\n",
    "print(labels[:10])"
   ]
  },
  {
   "cell_type": "code",
   "execution_count": 10,
   "metadata": {},
   "outputs": [
    {
     "name": "stdout",
     "output_type": "stream",
     "text": [
      "len(msgs) = 5574; len(labels) = 5574\n",
      "TRAIN: len(x) = 4459; len(y) = 4459\n",
      "TEST: len(x) = 1115; len(y) = 1115\n",
      "\n",
      "len(word_index) = 8031\n",
      "\n",
      "<class 'numpy.ndarray'>\n"
     ]
    }
   ],
   "source": [
    "\"\"\"\n",
    "    Preprocess the data\n",
    "\"\"\"\n",
    "import tensorflow as tf \n",
    "from tensorflow.keras.preprocessing.text import Tokenizer\n",
    "from tensorflow.keras.preprocessing.sequence import pad_sequences\n",
    "\n",
    "\n",
    "VOCAB_SIZE = 2500\n",
    "EMBEDDING_DIM = 16\n",
    "MAX_LENGTH = 64\n",
    "TRUNC_TYPE = \"post\"\n",
    "PADDING_TYPE = \"post\"\n",
    "OOV_TOK = \"<OOV>\"\n",
    "TRAINING_PORTION = 0.8\n",
    "NUM_EPOCHS = 20\n",
    "\n",
    "\n",
    "train_number = int(len(messages) * TRAINING_PORTION)\n",
    "\n",
    "train_msgs = messages[:train_number]\n",
    "train_labels = labels[:train_number]\n",
    "val_msgs = messages[train_number:]\n",
    "val_labels = labels[train_number:]\n",
    "\n",
    "tokenizer = Tokenizer(num_words = VOCAB_SIZE, oov_token = OOV_TOK)\n",
    "tokenizer.fit_on_texts(train_msgs)\n",
    "word_index = tokenizer.word_index\n",
    "\n",
    "print(\"len(msgs) = {}; len(labels) = {}\".format(len(messages), len(labels)))\n",
    "print(\"TRAIN: len(x) = {}; len(y) = {}\".format(len(train_msgs),len(train_labels)))\n",
    "print(\"TEST: len(x) = {}; len(y) = {}\".format(len(val_msgs),len(val_labels)))\n",
    "\n",
    "\n",
    "print(\"\\nlen(word_index) = {}\\n\".format(len(word_index))) \n",
    "# Total number of words without stopwords = 8029\n",
    "#print(word_index)\n",
    "\n",
    "train_sequences = tokenizer.texts_to_sequences(train_msgs)\n",
    "train_padded = pad_sequences(train_sequences, maxlen = MAX_LENGTH, \n",
    "                            padding = PADDING_TYPE, truncating = TRUNC_TYPE)\n",
    "\n",
    "val_sequences = tokenizer.texts_to_sequences(val_msgs)\n",
    "val_padded = pad_sequences(val_sequences, maxlen = MAX_LENGTH, \n",
    "                            padding = PADDING_TYPE, truncating = TRUNC_TYPE)\n",
    "\n",
    "print(type(val_padded))\n",
    "\n",
    "label_tokenizer = Tokenizer()\n",
    "label_tokenizer.fit_on_texts(labels)\n",
    "\n",
    "train_label_seq = np.array(label_tokenizer.texts_to_sequences(train_labels))\n",
    "val_label_seq = np.array(label_tokenizer.texts_to_sequences(val_labels))\n",
    "\n",
    "\n",
    "\"\"\"\n",
    "    Set labels to be 0 for ham, 1 for spam\n",
    "    (was 1 for ham, 2 for spam before -> didn't work)\n",
    "\"\"\"\n",
    "for i in range(len(train_label_seq)):\n",
    "    train_label_seq[i] -= 1\n",
    "\n",
    "for i in range(len(val_label_seq)):\n",
    "    val_label_seq[i] -= 1\n"
   ]
  },
  {
   "cell_type": "code",
   "execution_count": 9,
   "metadata": {},
   "outputs": [
    {
     "name": "stdout",
     "output_type": "stream",
     "text": [
      "Model: \"sequential_1\"\n",
      "_________________________________________________________________\n",
      "Layer (type)                 Output Shape              Param #   \n",
      "=================================================================\n",
      "embedding_1 (Embedding)      (None, 64, 16)            40000     \n",
      "_________________________________________________________________\n",
      "global_average_pooling1d_1 ( (None, 16)                0         \n",
      "_________________________________________________________________\n",
      "dense_2 (Dense)              (None, 24)                408       \n",
      "_________________________________________________________________\n",
      "dense_3 (Dense)              (None, 1)                 25        \n",
      "=================================================================\n",
      "Total params: 40,433\n",
      "Trainable params: 40,433\n",
      "Non-trainable params: 0\n",
      "_________________________________________________________________\n",
      "[[ 21   1 779 ...   0   0   0]\n",
      " [ 18 271   1 ...   0   0   0]\n",
      " [ 20 442   7 ...   0   0   0]\n",
      " ...\n",
      " [  1  82 450 ...   0   0   0]\n",
      " [ 56  34   1 ...   0   0   0]\n",
      " [309   2  11 ...   0   0   0]]\n",
      "<class 'numpy.ndarray'>\n",
      "Train on 4459 samples, validate on 1115 samples\n",
      "Epoch 1/20\n",
      "4459/4459 [==============================] - 0s 83us/sample - loss: 0.3609 - acc: 0.8414 - val_loss: -0.1605 - val_acc: 0.8700\n",
      "Epoch 2/20\n",
      "4459/4459 [==============================] - 0s 57us/sample - loss: -0.6756 - acc: 0.8650 - val_loss: -1.3467 - val_acc: 0.8700\n",
      "Epoch 3/20\n",
      "4459/4459 [==============================] - 0s 50us/sample - loss: -2.8280 - acc: 0.8650 - val_loss: -4.8960 - val_acc: 0.8700\n",
      "Epoch 4/20\n",
      "4459/4459 [==============================] - 0s 49us/sample - loss: -8.5822 - acc: 0.8650 - val_loss: -12.9871 - val_acc: 0.8700\n",
      "Epoch 5/20\n",
      "4459/4459 [==============================] - 0s 49us/sample - loss: -19.9556 - acc: 0.8650 - val_loss: -27.1266 - val_acc: 0.8700\n",
      "Epoch 6/20\n",
      "4459/4459 [==============================] - 0s 43us/sample - loss: -37.9731 - acc: 0.8650 - val_loss: -48.5256 - val_acc: 0.8700\n",
      "Epoch 7/20\n",
      "4459/4459 [==============================] - 0s 47us/sample - loss: -64.1209 - acc: 0.8650 - val_loss: -77.9445 - val_acc: 0.8700\n",
      "Epoch 8/20\n",
      "4459/4459 [==============================] - 0s 44us/sample - loss: -99.0039 - acc: 0.8650 - val_loss: -116.7935 - val_acc: 0.8700\n",
      "Epoch 9/20\n",
      "4459/4459 [==============================] - 0s 42us/sample - loss: -143.5040 - acc: 0.8650 - val_loss: -164.8302 - val_acc: 0.8700\n",
      "Epoch 10/20\n",
      "4459/4459 [==============================] - 0s 44us/sample - loss: -197.5927 - acc: 0.8650 - val_loss: -222.6695 - val_acc: 0.8700\n",
      "Epoch 11/20\n",
      "4459/4459 [==============================] - 0s 45us/sample - loss: -262.7853 - acc: 0.8650 - val_loss: -291.6781 - val_acc: 0.8700\n",
      "Epoch 12/20\n",
      "4459/4459 [==============================] - 0s 44us/sample - loss: -339.5655 - acc: 0.8650 - val_loss: -371.7029 - val_acc: 0.8700\n",
      "Epoch 13/20\n",
      "4459/4459 [==============================] - 0s 48us/sample - loss: -428.5619 - acc: 0.8650 - val_loss: -464.7234 - val_acc: 0.8700\n",
      "Epoch 14/20\n",
      "4459/4459 [==============================] - 0s 47us/sample - loss: -529.5643 - acc: 0.8650 - val_loss: -568.4834 - val_acc: 0.8700\n",
      "Epoch 15/20\n",
      "4459/4459 [==============================] - 0s 53us/sample - loss: -642.5929 - acc: 0.8650 - val_loss: -685.1831 - val_acc: 0.8700\n",
      "Epoch 16/20\n",
      "4459/4459 [==============================] - 0s 44us/sample - loss: -768.7512 - acc: 0.8650 - val_loss: -814.3640 - val_acc: 0.8700\n",
      "Epoch 17/20\n",
      "4459/4459 [==============================] - 0s 46us/sample - loss: -907.9922 - acc: 0.8650 - val_loss: -954.6317 - val_acc: 0.8700\n",
      "Epoch 18/20\n",
      "4459/4459 [==============================] - 0s 49us/sample - loss: -1058.8502 - acc: 0.8650 - val_loss: -1110.4138 - val_acc: 0.8700\n",
      "Epoch 19/20\n",
      "4459/4459 [==============================] - 0s 44us/sample - loss: -1224.1127 - acc: 0.8650 - val_loss: -1276.6357 - val_acc: 0.8700\n",
      "Epoch 20/20\n",
      "4459/4459 [==============================] - 0s 44us/sample - loss: -1403.5185 - acc: 0.8650 - val_loss: -1456.8243 - val_acc: 0.8700\n",
      "1115/1115 [==============================] - 0s 15us/sample - loss: -1456.8243 - acc: 0.8700\n",
      "\n",
      "--> Saved model to disk.\n"
     ]
    },
    {
     "data": {
      "image/png": "[encoded data removed]",
      "text/plain": [
       "<Figure size 432x288 with 1 Axes>"
      ]
     },
     "metadata": {
      "needs_background": "light"
     },
     "output_type": "display_data"
    },
    {
     "data": {
      "image/png": "[encoded data removed]",
      "text/plain": [
       "<Figure size 432x288 with 1 Axes>"
      ]
     },
     "metadata": {
      "needs_background": "light"
     },
     "output_type": "display_data"
    },
    {
     "name": "stdout",
     "output_type": "stream",
     "text": [
      "(2500, 16)\n"
     ]
    }
   ],
   "source": [
    "\"\"\"\n",
    "    Define the model\n",
    "\"\"\"\n",
    "\n",
    "model = tf.keras.Sequential([\n",
    "    tf.keras.layers.Embedding(VOCAB_SIZE, EMBEDDING_DIM, input_length=MAX_LENGTH),\n",
    "    tf.keras.layers.GlobalAveragePooling1D(),\n",
    "    tf.keras.layers.Dense(24, activation=\"relu\"),\n",
    "    tf.keras.layers.Dense(1, activation=\"sigmoid\")\n",
    "])\n",
    "\n",
    "model.compile(loss = \"binary_crossentropy\", optimizer = \"adam\", metrics = [\"acc\"])\n",
    "model.summary()\n",
    "\n",
    "#import pdb; pdb.set_trace()\n",
    "\n",
    "print(train_padded)\n",
    "print(type(train_padded))\n",
    "\n",
    "history = model.fit(train_padded, train_label_seq,\n",
    "         epochs=NUM_EPOCHS, validation_data=(val_padded, val_label_seq))\n",
    "\n",
    "scores = model.evaluate(val_padded, val_label_seq)\n",
    "\n",
    "#print(\"\\nSCORES:\")\n",
    "#print(scores)\n",
    "\n",
    "\n",
    "\"\"\"\n",
    "    Save model to json\n",
    "\"\"\"\n",
    "\n",
    "# serialize model to json\n",
    "model_json = model.to_json()\n",
    "with open(\"model_sms_spam.json\", \"w\") as json_file: \n",
    "    json_file.write(model_json)\n",
    "\n",
    "# serialize weights to HDF5\n",
    "model.save_weights(\"model_sms_spam.h5\")\n",
    "print(\"\\n--> Saved model to disk.\")\n",
    "\n",
    "\"\"\"\n",
    "    reset labels to be 1 for ham, 2 for spam\n",
    "    (was 1 for ham, 2 for spam before -> didn't work)\n",
    "\"\"\"\n",
    "for i in range(len(train_label_seq)):\n",
    "    train_label_seq[i] += 1\n",
    "\n",
    "for i in range(len(val_label_seq)):\n",
    "    val_label_seq[i] += 1\n",
    "\n",
    "import matplotlib.pyplot as plt \n",
    "\n",
    "def plot_graphs(history, string):\n",
    "    plt.plot(history.history[string])\n",
    "    plt.plot(history.history['val_'+string])\n",
    "    plt.xlabel(\"Epochs\")\n",
    "    plt.ylabel(string)\n",
    "    plt.legend([string, 'val_'+string])\n",
    "    plt.show()\n",
    "  \n",
    "plot_graphs(history, \"acc\")\n",
    "plot_graphs(history, \"loss\")\n",
    "\n",
    "reverse_word_index = dict([(value, key) for (key, value) in word_index.items()])\n",
    "\n",
    "def decode_sentence(text):\n",
    "    return ' '.join([reverse_word_index.get(i, '?') for i in text])\n",
    "\n",
    "\n",
    "e = model.layers[0]\n",
    "weights = e.get_weights()[0]\n",
    "print(weights.shape) # shape: (vocab_size, embedding_dim)"
   ]
  },
  {
   "cell_type": "code",
   "execution_count": null,
   "metadata": {},
   "outputs": [],
   "source": []
  }
 ],
 "metadata": {
  "kernelspec": {
   "display_name": "Python 3",
   "language": "python",
   "name": "python3"
  },
  "language_info": {
   "codemirror_mode": {
    "name": "ipython",
    "version": 3
   },
   "file_extension": ".py",
   "mimetype": "text/x-python",
   "name": "python",
   "nbconvert_exporter": "python",
   "pygments_lexer": "ipython3",
   "version": "3.7.4"
  }
 },
 "nbformat": 4,
 "nbformat_minor": 2
}
