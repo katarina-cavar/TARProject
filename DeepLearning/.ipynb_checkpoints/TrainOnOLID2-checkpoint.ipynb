{
 "cells": [
  {
   "cell_type": "markdown",
   "metadata": {},
   "source": [
    "# Train Deep Learning Networks on OLID Dataset - 2"
   ]
  },
  {
   "cell_type": "code",
   "execution_count": 34,
   "metadata": {},
   "outputs": [],
   "source": [
    "# Imports\n",
    "\n",
    "import numpy as np\n",
    "import pandas as pd\n",
    "import csv\n",
    "from tqdm import tqdm\n",
    "from sklearn.utils import shuffle\n",
    "\n",
    "import warnings\n",
    "warnings.filterwarnings(\"ignore\", category=DeprecationWarning)\n",
    "warnings.filterwarnings(action='ignore', category=UserWarning, module='gensim')"
   ]
  },
  {
   "cell_type": "markdown",
   "metadata": {},
   "source": [
    "## Reading data"
   ]
  },
  {
   "cell_type": "code",
   "execution_count": 31,
   "metadata": {},
   "outputs": [],
   "source": [
    "class DataReader:\n",
    "    def __init__(self, folder=\"../Dataset-OLID/OLIDv1.0/\", \n",
    "                 task_a=\"data_subtask_a.csv\"):\n",
    "        self.folder = folder\n",
    "        self.task_a = task_a\n",
    "        \n",
    "    def get_df_train_data(self):\n",
    "        train_data = pd.read_csv(self.folder + self.task_a)\n",
    "        train_tweets = train_data.drop([\"Unnamed: 0\", \"id\", \"subtask_a\"], axis=1)\n",
    "        return train_tweets\n",
    "    \n",
    "    def get_df_data(self, file=\"data_subtask_a.csv\"):\n",
    "        data = pd.read_csv(self.folder + file)\n",
    "        train_tweets = data.drop([\"Unnamed: 0\", \"id\", \"subtask_a\"], axis=1)\n",
    "        return train_tweets\n",
    "    \n",
    "    def get_np_data_and_labels(self, file=\"data_subtask_a.csv\"):\n",
    "        tweets = self.get_df_data(file)\n",
    "        data, labels = tweets.values[:,0], tweets.values[:,1]\n",
    "        return data, labels\n",
    "    \n",
    "    # this creates copies\n",
    "    def shuffle_np(self, data, labels):\n",
    "        assert len(data) == len(labels)\n",
    "        p = np.random.permutation(len(data))\n",
    "        return data[p], labels[p]\n",
    "        "
   ]
  },
  {
   "cell_type": "code",
   "execution_count": 10,
   "metadata": {},
   "outputs": [
    {
     "data": {
      "text/html": [
       "<div>\n",
       "<style scoped>\n",
       "    .dataframe tbody tr th:only-of-type {\n",
       "        vertical-align: middle;\n",
       "    }\n",
       "\n",
       "    .dataframe tbody tr th {\n",
       "        vertical-align: top;\n",
       "    }\n",
       "\n",
       "    .dataframe thead th {\n",
       "        text-align: right;\n",
       "    }\n",
       "</style>\n",
       "<table border=\"1\" class=\"dataframe\">\n",
       "  <thead>\n",
       "    <tr style=\"text-align: right;\">\n",
       "      <th></th>\n",
       "      <th>tweet</th>\n",
       "      <th>label_a</th>\n",
       "    </tr>\n",
       "  </thead>\n",
       "  <tbody>\n",
       "    <tr>\n",
       "      <th>0</th>\n",
       "      <td>@USER She should ask a few native Americans wh...</td>\n",
       "      <td>1</td>\n",
       "    </tr>\n",
       "    <tr>\n",
       "      <th>1</th>\n",
       "      <td>@USER @USER Go home you’re drunk!!! @USER #MAG...</td>\n",
       "      <td>1</td>\n",
       "    </tr>\n",
       "    <tr>\n",
       "      <th>2</th>\n",
       "      <td>Amazon is investigating Chinese employees who ...</td>\n",
       "      <td>0</td>\n",
       "    </tr>\n",
       "    <tr>\n",
       "      <th>3</th>\n",
       "      <td>@USER Someone should'veTaken\" this piece of sh...</td>\n",
       "      <td>1</td>\n",
       "    </tr>\n",
       "    <tr>\n",
       "      <th>4</th>\n",
       "      <td>@USER @USER Obama wanted liberals &amp;amp; illega...</td>\n",
       "      <td>0</td>\n",
       "    </tr>\n",
       "    <tr>\n",
       "      <th>5</th>\n",
       "      <td>@USER Liberals are all Kookoo !!!</td>\n",
       "      <td>1</td>\n",
       "    </tr>\n",
       "    <tr>\n",
       "      <th>6</th>\n",
       "      <td>@USER @USER Oh noes! Tough shit.</td>\n",
       "      <td>1</td>\n",
       "    </tr>\n",
       "    <tr>\n",
       "      <th>7</th>\n",
       "      <td>@USER was literally just talking about this lo...</td>\n",
       "      <td>1</td>\n",
       "    </tr>\n",
       "    <tr>\n",
       "      <th>8</th>\n",
       "      <td>@USER Buy more icecream!!!</td>\n",
       "      <td>0</td>\n",
       "    </tr>\n",
       "    <tr>\n",
       "      <th>9</th>\n",
       "      <td>@USER Canada doesn’t need another CUCK! We alr...</td>\n",
       "      <td>1</td>\n",
       "    </tr>\n",
       "  </tbody>\n",
       "</table>\n",
       "</div>"
      ],
      "text/plain": [
       "                                               tweet  label_a\n",
       "0  @USER She should ask a few native Americans wh...        1\n",
       "1  @USER @USER Go home you’re drunk!!! @USER #MAG...        1\n",
       "2  Amazon is investigating Chinese employees who ...        0\n",
       "3  @USER Someone should'veTaken\" this piece of sh...        1\n",
       "4  @USER @USER Obama wanted liberals &amp; illega...        0\n",
       "5                  @USER Liberals are all Kookoo !!!        1\n",
       "6                   @USER @USER Oh noes! Tough shit.        1\n",
       "7  @USER was literally just talking about this lo...        1\n",
       "8                         @USER Buy more icecream!!!        0\n",
       "9  @USER Canada doesn’t need another CUCK! We alr...        1"
      ]
     },
     "execution_count": 10,
     "metadata": {},
     "output_type": "execute_result"
    }
   ],
   "source": [
    "dr = DataReader()\n",
    "train_tweets = dr.get_df_train_data()\n",
    "train_tweets.head(10)\n"
   ]
  },
  {
   "cell_type": "code",
   "execution_count": 12,
   "metadata": {},
   "outputs": [
    {
     "name": "stdout",
     "output_type": "stream",
     "text": [
      "(13240, 2)\n",
      "<class 'pandas.core.frame.DataFrame'>\n"
     ]
    }
   ],
   "source": [
    "print(train_tweets.shape)\n",
    "print(type(train_tweets))"
   ]
  },
  {
   "cell_type": "markdown",
   "metadata": {},
   "source": [
    "- StackOverflow: [Convert pandas dataframe to NumPy array](https://stackoverflow.com/questions/13187778/convert-pandas-dataframe-to-numpy-array)\n",
    "    - `dataframe.values` is a numpy array!"
   ]
  },
  {
   "cell_type": "code",
   "execution_count": 14,
   "metadata": {},
   "outputs": [
    {
     "name": "stdout",
     "output_type": "stream",
     "text": [
      "(13240, 2)\n",
      "<class 'numpy.ndarray'>\n"
     ]
    }
   ],
   "source": [
    "print(train_tweets.values.shape)\n",
    "print(type(train_tweets.values))"
   ]
  },
  {
   "cell_type": "code",
   "execution_count": 17,
   "metadata": {},
   "outputs": [
    {
     "name": "stdout",
     "output_type": "stream",
     "text": [
      "(13240,)\n",
      "<class 'numpy.ndarray'>\n",
      "(13240,)\n",
      "<class 'numpy.ndarray'>\n"
     ]
    }
   ],
   "source": [
    "train_data, train_labels = train_tweets.values[:,0], train_tweets.values[:,1]\n",
    "print(train_data.shape)\n",
    "print(type(train_data))\n",
    "print(train_labels.shape)\n",
    "print(type(train_labels))\n"
   ]
  },
  {
   "cell_type": "code",
   "execution_count": 20,
   "metadata": {},
   "outputs": [
    {
     "data": {
      "text/plain": [
       "array(['@USER She should ask a few native Americans what their take on this is.',\n",
       "       '@USER @USER Go home you’re drunk!!! @USER #MAGA #Trump2020 👊🇺🇸👊 URL',\n",
       "       'Amazon is investigating Chinese employees who are selling internal data to third-party sellers looking for an edge in the competitive marketplace. URL #Amazon #MAGA #KAG #CHINA #TCOT',\n",
       "       '@USER Someone should\\'veTaken\" this piece of shit to a volcano. 😂\"',\n",
       "       '@USER @USER Obama wanted liberals &amp; illegals to move into red states',\n",
       "       '@USER Liberals are all Kookoo !!!',\n",
       "       '@USER @USER Oh noes! Tough shit.',\n",
       "       '@USER was literally just talking about this lol all mass shootings like that have been set ups. it’s propaganda used to divide us on major issues like gun control and terrorism',\n",
       "       '@USER Buy more icecream!!!',\n",
       "       '@USER Canada doesn’t need another CUCK! We already have enough #LooneyLeft #Liberals f**king up our great country! #Qproofs #TrudeauMustGo'],\n",
       "      dtype=object)"
      ]
     },
     "execution_count": 20,
     "metadata": {},
     "output_type": "execute_result"
    }
   ],
   "source": [
    "train_data[:10]"
   ]
  },
  {
   "cell_type": "code",
   "execution_count": 21,
   "metadata": {},
   "outputs": [
    {
     "data": {
      "text/plain": [
       "array([1, 1, 0, 1, 0, 1, 1, 1, 0, 1], dtype=object)"
      ]
     },
     "execution_count": 21,
     "metadata": {},
     "output_type": "execute_result"
    }
   ],
   "source": [
    "train_labels[:10]"
   ]
  },
  {
   "cell_type": "markdown",
   "metadata": {},
   "source": [
    "- StackOverflow: [Better way to shuffle two numpy arrays in unison](https://stackoverflow.com/questions/4601373/better-way-to-shuffle-two-numpy-arrays-in-unison)\n",
    "    - numpy's [array indexing](https://docs.scipy.org/doc/numpy-1.10.1/user/basics.indexing.html)\n",
    "```\n",
    "assert len(a) == len(b)\n",
    "p = numpy.random.permutation(len(a))\n",
    "return a[p], b[p]\n",
    "```"
   ]
  },
  {
   "cell_type": "code",
   "execution_count": 22,
   "metadata": {},
   "outputs": [
    {
     "name": "stdout",
     "output_type": "stream",
     "text": [
      "13240\n",
      "13240\n"
     ]
    }
   ],
   "source": [
    "print(len(train_labels))\n",
    "print(len(train_data))"
   ]
  },
  {
   "cell_type": "markdown",
   "metadata": {},
   "source": [
    "## Preprocessing\n",
    "\n",
    "```\n",
    ">>> text = word_tokenize(\"And now for something completely different\")\n",
    ">>> nltk.pos_tag(text)\n",
    "[('And', 'CC'), ('now', 'RB'), ('for', 'IN'), ('something', 'NN'),\n",
    "('completely', 'RB'), ('different', 'JJ')]\n",
    "```"
   ]
  },
  {
   "cell_type": "code",
   "execution_count": 25,
   "metadata": {},
   "outputs": [
    {
     "name": "stderr",
     "output_type": "stream",
     "text": [
      "[nltk_data] Downloading package stopwords to\n",
      "[nltk_data]     C:\\Users\\kcava\\AppData\\Roaming\\nltk_data...\n",
      "[nltk_data]   Package stopwords is already up-to-date!\n",
      "[nltk_data] Downloading package punkt to\n",
      "[nltk_data]     C:\\Users\\kcava\\AppData\\Roaming\\nltk_data...\n",
      "[nltk_data]   Package punkt is already up-to-date!\n",
      "[nltk_data] Downloading package wordnet to\n",
      "[nltk_data]     C:\\Users\\kcava\\AppData\\Roaming\\nltk_data...\n",
      "[nltk_data]   Package wordnet is already up-to-date!\n",
      "[nltk_data] Downloading package averaged_perceptron_tagger to\n",
      "[nltk_data]     C:\\Users\\kcava\\AppData\\Roaming\\nltk_data...\n",
      "[nltk_data]   Unzipping taggers\\averaged_perceptron_tagger.zip.\n"
     ]
    },
    {
     "data": {
      "text/plain": [
       "True"
      ]
     },
     "execution_count": 25,
     "metadata": {},
     "output_type": "execute_result"
    }
   ],
   "source": [
    "import nltk\n",
    "nltk.download(['stopwords', 'punkt', 'wordnet', 'averaged_perceptron_tagger'])"
   ]
  },
  {
   "cell_type": "code",
   "execution_count": 38,
   "metadata": {},
   "outputs": [],
   "source": [
    "class Preprocessor:\n",
    "    \n",
    "    def tokenize(self, data):\n",
    "        from nltk import word_tokenize\n",
    "        for i, tweet in tqdm(enumerate(data), \"Tokenization\"):\n",
    "            data[i] = word_tokenize(tweet.lower())\n",
    "        return data\n",
    "    \n",
    "    def remove_stopwords(self, data):\n",
    "        from nltk.corpus import stopwords\n",
    "        import re\n",
    "        stop = set(stopwords.words(\"english\"))\n",
    "        noise = [\"user\"]\n",
    "        for i, tweet in tqdm(enumerate(data), \"Stopwords Removal\"):\n",
    "            data[i] = [w for w in tweet if w not in stop and not re.match(r\"[^a-zA-Z\\d\\s]+\", w) and w not in noise]\n",
    "        return data\n",
    "    \n",
    "    def get_pos(self, word):\n",
    "        from nltk import pos_tag\n",
    "        from nltk.corpus import wordnet\n",
    "        tag = pos_tag([word])[0][1]\n",
    "        \n",
    "        if tag.startswith(\"V\"):\n",
    "            return wordnet.VERB\n",
    "        elif tag.startswith(\"J\"):\n",
    "            return wordnet.ADJ\n",
    "        elif tag.startswith(\"N\"):\n",
    "            return wordnet.NOUN\n",
    "        elif tag.startswith(\"R\"):\n",
    "            return wordnet.ADV\n",
    "        else: \n",
    "            return wordnet.NOUN\n",
    "    \n",
    "    def lemmatize(self, data):\n",
    "        from nltk.stem import WordNetLemmatizer\n",
    "        wnl = WordNetLemmatizer()\n",
    "        for i, tweet in tqdm(enumerate(data), \"Lemmatization\"):\n",
    "            for j, word in enumerate(tweet):\n",
    "                data[i][j] = wnl.lemmatize(word, pos=self.get_pos(word))\n",
    "        return data\n",
    "    \n",
    "    def stem(self, data):\n",
    "        from nltk.stem import PorterStemmer\n",
    "        stemmer = PorterStemmer()\n",
    "        for i, tweet in tqdm(enumerate(self.data), \"Stemming\"):\n",
    "            for j, word in enumerate(tweet):\n",
    "                data[i][j] = stemmer.stem(word)\n",
    "        return data\n",
    "    \n",
    "    # def word_cloud\n",
    "    # def clean\n",
    "        "
   ]
  },
  {
   "cell_type": "markdown",
   "metadata": {},
   "source": [
    "## Vectorizing"
   ]
  },
  {
   "cell_type": "code",
   "execution_count": 40,
   "metadata": {},
   "outputs": [],
   "source": [
    "# Imports\n",
    "from gensim.models import Word2Vec, FastText, KeyedVectors\n",
    "from sklearn.feature_extraction.text import TfidfVectorizer, CountVectorizer\n",
    "import gensim.downloader as api\n",
    "from os import listdir"
   ]
  },
  {
   "cell_type": "code",
   "execution_count": null,
   "metadata": {},
   "outputs": [],
   "source": [
    "class Vectorizer: \n",
    "    \n",
    "    def __init__(self, type, pre_trained=False, retrain=False, \n",
    "                extend_training=False, params={}):\n",
    "        \n",
    "        self.type = type\n",
    "        self.pre_trained = pre_trained\n",
    "        self.params = params\n",
    "        self.retrain = retrain\n",
    "        self.extend_training = extend_training\n",
    "        self.vectorizer = None\n",
    "        self.max_len = None\n",
    "    \n",
    "    def word2vec(self, data):\n",
    "        if not self.pre_trained:\n",
    "            if 'word2vec.model' not in listdir('./embeddings') or self.retrain: \n",
    "                print(\"\\nTraining Word2Vec model...\")\n",
    "                model = self.train_w2v()\n",
    "            elif self.extend_training and 'word2vec-model' in listdir('./embeddings'):\n",
    "                print(\"\\nExtending existing Word2Vec model...\")\n",
    "                model = Word2Vec.load(\"./embeddings/word2vec.model\")\n",
    "                model.train(data, total_examples=len(data), epochs=5000)\n",
    "                model.save(\"./embeddings/word2vec.model\")\n",
    "            else: \n",
    "                print(\"\\nLoading existing Word2Vec model...\")\n",
    "                model = Word2Vec.load(\"./embeddings/word2vec.model\")\n",
    "        else: \n",
    "            model = Word2Vec(data, **self.params)\n",
    "        \n",
    "        vectorizer = model.wv\n",
    "        self.vocab_length = len(model.vw.vocab)\n",
    "        vectors = [\n",
    "            np.array([vectorizer[word] for word in tweet if word in model]).flatten() for tweet in tqdm(data, \"Vectorizing\")\n",
    "        ]\n",
    "        \n",
    "        if  not self.max_len:\n",
    "            self.max_len = np.max([len(vector) for vector in vectors])\n",
    "        self.vectors = [\n",
    "            np.array(vector.tolist() + [0 for _ in range(self.max_len - len(vector))]) for vector in tqdm(data, \"Vectorizing\")\n",
    "        ]\n",
    "    "
   ]
  },
  {
   "cell_type": "markdown",
   "metadata": {},
   "source": [
    "## Initializing objects"
   ]
  },
  {
   "cell_type": "code",
   "execution_count": 33,
   "metadata": {},
   "outputs": [
    {
     "name": "stdout",
     "output_type": "stream",
     "text": [
      "['@USER She should ask a few native Americans what their take on this is.'\n",
      " '@USER @USER Go home you’re drunk!!! @USER #MAGA #Trump2020 👊🇺🇸👊 URL'\n",
      " 'Amazon is investigating Chinese employees who are selling internal data to third-party sellers looking for an edge in the competitive marketplace. URL #Amazon #MAGA #KAG #CHINA #TCOT'\n",
      " '@USER Someone should\\'veTaken\" this piece of shit to a volcano. 😂\"'\n",
      " '@USER @USER Obama wanted liberals &amp; illegals to move into red states'\n",
      " '@USER Liberals are all Kookoo !!!' '@USER @USER Oh noes! Tough shit.'\n",
      " '@USER was literally just talking about this lol all mass shootings like that have been set ups. it’s propaganda used to divide us on major issues like gun control and terrorism'\n",
      " '@USER Buy more icecream!!!'\n",
      " '@USER Canada doesn’t need another CUCK! We already have enough #LooneyLeft #Liberals f**king up our great country! #Qproofs #TrudeauMustGo']\n",
      "[1 1 0 1 0 1 1 1 0 1]\n"
     ]
    }
   ],
   "source": [
    "dr = DataReader()\n",
    "train_data, train_labels = dr.get_np_data_and_labels()\n",
    "print(train_data[:10])\n",
    "print(train_labels[:10])"
   ]
  },
  {
   "cell_type": "code",
   "execution_count": null,
   "metadata": {},
   "outputs": [],
   "source": [
    "preprocessors = [('lemmatize'), \n",
    "                 ('remove_stopwords', 'lemmatize'), \n",
    "                 ('remove_stopwords', 'stem'), \n",
    "                 ('remove_stopwords', 'lemmatize'),\n",
    "                 ('remove_stopwords', 'lemmatize'),\n",
    "                 ('remove_stopwords')\n",
    "                ]\n",
    "\n",
    "vectorizers = ['count', 'count', 'count', 'tfidf', 'glove']\n",
    "\n"
   ]
  }
 ],
 "metadata": {
  "kernelspec": {
   "display_name": "Python 3",
   "language": "python",
   "name": "python3"
  },
  "language_info": {
   "codemirror_mode": {
    "name": "ipython",
    "version": 3
   },
   "file_extension": ".py",
   "mimetype": "text/x-python",
   "name": "python",
   "nbconvert_exporter": "python",
   "pygments_lexer": "ipython3",
   "version": "3.7.4"
  }
 },
 "nbformat": 4,
 "nbformat_minor": 2
}
