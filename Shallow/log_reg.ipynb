{
 "cells": [
  {
   "cell_type": "markdown",
   "metadata": {},
   "source": [
    "# Logistic Regression\n",
    "\n",
    "- __Model info:__\n",
    "    - features:\n",
    "        - contains negative words (T/F)\n",
    "        - contains offensive words (T/F)\n",
    "        - sentiment (+, -, 0)\n",
    "        - contains emoji\n",
    "    - model: Logistic Regression\n",
    "    - max acc: 80% counter with ngrams(1, 3)\n",
    "    \n",
    "https://www.cs.uic.edu/~liub/FBS/sentiment-analysis.html"
   ]
  },
  {
   "cell_type": "code",
   "execution_count": 1,
   "metadata": {},
   "outputs": [],
   "source": [
    "import numpy as np\n",
    "import matplotlib.pyplot as plt\n",
    "import pandas as pd\n",
    "\n",
    "import collections\n",
    "\n",
    "from sklearn.metrics import accuracy_score, f1_score, recall_score, precision_score\n",
    "from sklearn.feature_extraction.text import TfidfVectorizer, CountVectorizer, HashingVectorizer\n",
    "from sklearn.model_selection import train_test_split\n",
    "from sklearn.linear_model import LogisticRegression\n",
    "from sklearn.metrics import matthews_corrcoef\n",
    "from sklearn import svm\n",
    "from sklearn.tree import DecisionTreeClassifier\n",
    "\n",
    "\n",
    "from nltk.corpus import stopwords\n",
    "from nltk.stem import SnowballStemmer, WordNetLemmatizer"
   ]
  },
  {
   "cell_type": "code",
   "execution_count": null,
   "metadata": {},
   "outputs": [],
   "source": [
    "#nltk.download(['stopwords'])"
   ]
  },
  {
   "cell_type": "code",
   "execution_count": 98,
   "metadata": {},
   "outputs": [
    {
     "data": {
      "text/html": [
       "<div>\n",
       "<style scoped>\n",
       "    .dataframe tbody tr th:only-of-type {\n",
       "        vertical-align: middle;\n",
       "    }\n",
       "\n",
       "    .dataframe tbody tr th {\n",
       "        vertical-align: top;\n",
       "    }\n",
       "\n",
       "    .dataframe thead th {\n",
       "        text-align: right;\n",
       "    }\n",
       "</style>\n",
       "<table border=\"1\" class=\"dataframe\">\n",
       "  <thead>\n",
       "    <tr style=\"text-align: right;\">\n",
       "      <th></th>\n",
       "      <th>Unnamed: 0</th>\n",
       "      <th>id</th>\n",
       "      <th>tweet</th>\n",
       "      <th>subtask_a</th>\n",
       "      <th>label_a</th>\n",
       "    </tr>\n",
       "  </thead>\n",
       "  <tbody>\n",
       "    <tr>\n",
       "      <th>0</th>\n",
       "      <td>0</td>\n",
       "      <td>86426</td>\n",
       "      <td>@USER She should ask a few native Americans wh...</td>\n",
       "      <td>OFF</td>\n",
       "      <td>1</td>\n",
       "    </tr>\n",
       "    <tr>\n",
       "      <th>1</th>\n",
       "      <td>1</td>\n",
       "      <td>90194</td>\n",
       "      <td>@USER @USER Go home you’re drunk!!! @USER #MAG...</td>\n",
       "      <td>OFF</td>\n",
       "      <td>1</td>\n",
       "    </tr>\n",
       "    <tr>\n",
       "      <th>2</th>\n",
       "      <td>2</td>\n",
       "      <td>16820</td>\n",
       "      <td>Amazon is investigating Chinese employees who ...</td>\n",
       "      <td>NOT</td>\n",
       "      <td>0</td>\n",
       "    </tr>\n",
       "    <tr>\n",
       "      <th>3</th>\n",
       "      <td>3</td>\n",
       "      <td>62688</td>\n",
       "      <td>@USER Someone should'veTaken\" this piece of sh...</td>\n",
       "      <td>OFF</td>\n",
       "      <td>1</td>\n",
       "    </tr>\n",
       "    <tr>\n",
       "      <th>4</th>\n",
       "      <td>4</td>\n",
       "      <td>43605</td>\n",
       "      <td>@USER @USER Obama wanted liberals &amp;amp; illega...</td>\n",
       "      <td>NOT</td>\n",
       "      <td>0</td>\n",
       "    </tr>\n",
       "    <tr>\n",
       "      <th>5</th>\n",
       "      <td>5</td>\n",
       "      <td>97670</td>\n",
       "      <td>@USER Liberals are all Kookoo !!!</td>\n",
       "      <td>OFF</td>\n",
       "      <td>1</td>\n",
       "    </tr>\n",
       "    <tr>\n",
       "      <th>6</th>\n",
       "      <td>6</td>\n",
       "      <td>77444</td>\n",
       "      <td>@USER @USER Oh noes! Tough shit.</td>\n",
       "      <td>OFF</td>\n",
       "      <td>1</td>\n",
       "    </tr>\n",
       "    <tr>\n",
       "      <th>7</th>\n",
       "      <td>7</td>\n",
       "      <td>52415</td>\n",
       "      <td>@USER was literally just talking about this lo...</td>\n",
       "      <td>OFF</td>\n",
       "      <td>1</td>\n",
       "    </tr>\n",
       "    <tr>\n",
       "      <th>8</th>\n",
       "      <td>8</td>\n",
       "      <td>45157</td>\n",
       "      <td>@USER Buy more icecream!!!</td>\n",
       "      <td>NOT</td>\n",
       "      <td>0</td>\n",
       "    </tr>\n",
       "    <tr>\n",
       "      <th>9</th>\n",
       "      <td>9</td>\n",
       "      <td>13384</td>\n",
       "      <td>@USER Canada doesn’t need another CUCK! We alr...</td>\n",
       "      <td>OFF</td>\n",
       "      <td>1</td>\n",
       "    </tr>\n",
       "  </tbody>\n",
       "</table>\n",
       "</div>"
      ],
      "text/plain": [
       "   Unnamed: 0     id                                              tweet  \\\n",
       "0           0  86426  @USER She should ask a few native Americans wh...   \n",
       "1           1  90194  @USER @USER Go home you’re drunk!!! @USER #MAG...   \n",
       "2           2  16820  Amazon is investigating Chinese employees who ...   \n",
       "3           3  62688  @USER Someone should'veTaken\" this piece of sh...   \n",
       "4           4  43605  @USER @USER Obama wanted liberals &amp; illega...   \n",
       "5           5  97670                  @USER Liberals are all Kookoo !!!   \n",
       "6           6  77444                   @USER @USER Oh noes! Tough shit.   \n",
       "7           7  52415  @USER was literally just talking about this lo...   \n",
       "8           8  45157                         @USER Buy more icecream!!!   \n",
       "9           9  13384  @USER Canada doesn’t need another CUCK! We alr...   \n",
       "\n",
       "  subtask_a  label_a  \n",
       "0       OFF        1  \n",
       "1       OFF        1  \n",
       "2       NOT        0  \n",
       "3       OFF        1  \n",
       "4       NOT        0  \n",
       "5       OFF        1  \n",
       "6       OFF        1  \n",
       "7       OFF        1  \n",
       "8       NOT        0  \n",
       "9       OFF        1  "
      ]
     },
     "execution_count": 98,
     "metadata": {},
     "output_type": "execute_result"
    }
   ],
   "source": [
    "tweets_DF = pd.read_csv('../Dataset-OLID/OLIDv1.0/data_subtask_a.csv')\n",
    "tweets_DF.head(10)"
   ]
  },
  {
   "cell_type": "code",
   "execution_count": 99,
   "metadata": {},
   "outputs": [
    {
     "data": {
      "text/html": [
       "<div>\n",
       "<style scoped>\n",
       "    .dataframe tbody tr th:only-of-type {\n",
       "        vertical-align: middle;\n",
       "    }\n",
       "\n",
       "    .dataframe tbody tr th {\n",
       "        vertical-align: top;\n",
       "    }\n",
       "\n",
       "    .dataframe thead th {\n",
       "        text-align: right;\n",
       "    }\n",
       "</style>\n",
       "<table border=\"1\" class=\"dataframe\">\n",
       "  <thead>\n",
       "    <tr style=\"text-align: right;\">\n",
       "      <th></th>\n",
       "      <th>Unnamed: 0</th>\n",
       "      <th>id</th>\n",
       "      <th>tweet</th>\n",
       "      <th>subtask_a</th>\n",
       "      <th>label_a</th>\n",
       "    </tr>\n",
       "  </thead>\n",
       "  <tbody>\n",
       "    <tr>\n",
       "      <th>0</th>\n",
       "      <td>0</td>\n",
       "      <td>15923</td>\n",
       "      <td>#WhoIsQ #WheresTheServer #DumpNike #DECLASFISA...</td>\n",
       "      <td>OFF</td>\n",
       "      <td>1</td>\n",
       "    </tr>\n",
       "    <tr>\n",
       "      <th>1</th>\n",
       "      <td>1</td>\n",
       "      <td>27014</td>\n",
       "      <td>#ConstitutionDay is revered by Conservatives, ...</td>\n",
       "      <td>NOT</td>\n",
       "      <td>0</td>\n",
       "    </tr>\n",
       "    <tr>\n",
       "      <th>2</th>\n",
       "      <td>2</td>\n",
       "      <td>30530</td>\n",
       "      <td>#FOXNews #NRA #MAGA #POTUS #TRUMP #2ndAmendmen...</td>\n",
       "      <td>NOT</td>\n",
       "      <td>0</td>\n",
       "    </tr>\n",
       "    <tr>\n",
       "      <th>3</th>\n",
       "      <td>3</td>\n",
       "      <td>13876</td>\n",
       "      <td>#Watching #Boomer getting the news that she is...</td>\n",
       "      <td>NOT</td>\n",
       "      <td>0</td>\n",
       "    </tr>\n",
       "    <tr>\n",
       "      <th>4</th>\n",
       "      <td>4</td>\n",
       "      <td>60133</td>\n",
       "      <td>#NoPasaran: Unity demo to oppose the far-right...</td>\n",
       "      <td>OFF</td>\n",
       "      <td>1</td>\n",
       "    </tr>\n",
       "  </tbody>\n",
       "</table>\n",
       "</div>"
      ],
      "text/plain": [
       "   Unnamed: 0     id                                              tweet  \\\n",
       "0           0  15923  #WhoIsQ #WheresTheServer #DumpNike #DECLASFISA...   \n",
       "1           1  27014  #ConstitutionDay is revered by Conservatives, ...   \n",
       "2           2  30530  #FOXNews #NRA #MAGA #POTUS #TRUMP #2ndAmendmen...   \n",
       "3           3  13876  #Watching #Boomer getting the news that she is...   \n",
       "4           4  60133  #NoPasaran: Unity demo to oppose the far-right...   \n",
       "\n",
       "  subtask_a  label_a  \n",
       "0       OFF        1  \n",
       "1       NOT        0  \n",
       "2       NOT        0  \n",
       "3       NOT        0  \n",
       "4       OFF        1  "
      ]
     },
     "execution_count": 99,
     "metadata": {},
     "output_type": "execute_result"
    }
   ],
   "source": [
    "tweets_test_DF = pd.read_csv('../Dataset-OLID/OLIDv1.0/test_data_subtask_a.csv')\n",
    "tweets_test_DF.head(5)"
   ]
  },
  {
   "cell_type": "code",
   "execution_count": 241,
   "metadata": {},
   "outputs": [
    {
     "data": {
      "text/html": [
       "<div>\n",
       "<style scoped>\n",
       "    .dataframe tbody tr th:only-of-type {\n",
       "        vertical-align: middle;\n",
       "    }\n",
       "\n",
       "    .dataframe tbody tr th {\n",
       "        vertical-align: top;\n",
       "    }\n",
       "\n",
       "    .dataframe thead th {\n",
       "        text-align: right;\n",
       "    }\n",
       "</style>\n",
       "<table border=\"1\" class=\"dataframe\">\n",
       "  <thead>\n",
       "    <tr style=\"text-align: right;\">\n",
       "      <th></th>\n",
       "      <th>id</th>\n",
       "      <th>sentiment</th>\n",
       "      <th>tweet</th>\n",
       "    </tr>\n",
       "  </thead>\n",
       "  <tbody>\n",
       "    <tr>\n",
       "      <th>0</th>\n",
       "      <td>5688</td>\n",
       "      <td>POS</td>\n",
       "      <td>@Janet_Reid  I need help getting my book to ma...</td>\n",
       "    </tr>\n",
       "    <tr>\n",
       "      <th>1</th>\n",
       "      <td>2270</td>\n",
       "      <td>POS</td>\n",
       "      <td>I had a snicker doodle for breakfast. #adulting</td>\n",
       "    </tr>\n",
       "    <tr>\n",
       "      <th>2</th>\n",
       "      <td>6452</td>\n",
       "      <td>POS</td>\n",
       "      <td>I slept good 2day I barely sleep any other day...</td>\n",
       "    </tr>\n",
       "    <tr>\n",
       "      <th>3</th>\n",
       "      <td>5692</td>\n",
       "      <td>NEG</td>\n",
       "      <td>I can’t believe hit folk singer Charles Manson...</td>\n",
       "    </tr>\n",
       "    <tr>\n",
       "      <th>4</th>\n",
       "      <td>6924</td>\n",
       "      <td>POS</td>\n",
       "      <td>@EA $60 triple A title with microtransactions ...</td>\n",
       "    </tr>\n",
       "  </tbody>\n",
       "</table>\n",
       "</div>"
      ],
      "text/plain": [
       "     id sentiment                                              tweet\n",
       "0  5688       POS  @Janet_Reid  I need help getting my book to ma...\n",
       "1  2270       POS    I had a snicker doodle for breakfast. #adulting\n",
       "2  6452       POS  I slept good 2day I barely sleep any other day...\n",
       "3  5692       NEG  I can’t believe hit folk singer Charles Manson...\n",
       "4  6924       POS  @EA $60 triple A title with microtransactions ..."
      ]
     },
     "execution_count": 241,
     "metadata": {},
     "output_type": "execute_result"
    }
   ],
   "source": [
    "tweets_test_DF = pd.read_csv('../Dataset-TSA/sentiment500.csv')\n",
    "tweets_test_DF.head(5)"
   ]
  },
  {
   "cell_type": "code",
   "execution_count": 8,
   "metadata": {},
   "outputs": [
    {
     "data": {
      "text/html": [
       "<div>\n",
       "<style scoped>\n",
       "    .dataframe tbody tr th:only-of-type {\n",
       "        vertical-align: middle;\n",
       "    }\n",
       "\n",
       "    .dataframe tbody tr th {\n",
       "        vertical-align: top;\n",
       "    }\n",
       "\n",
       "    .dataframe thead th {\n",
       "        text-align: right;\n",
       "    }\n",
       "</style>\n",
       "<table border=\"1\" class=\"dataframe\">\n",
       "  <thead>\n",
       "    <tr style=\"text-align: right;\">\n",
       "      <th></th>\n",
       "      <th>id</th>\n",
       "      <th>sentiment</th>\n",
       "      <th>tweet</th>\n",
       "      <th>label</th>\n",
       "    </tr>\n",
       "  </thead>\n",
       "  <tbody>\n",
       "    <tr>\n",
       "      <th>0</th>\n",
       "      <td>5688</td>\n",
       "      <td>POS</td>\n",
       "      <td>@Janet_Reid  I need help getting my book to ma...</td>\n",
       "      <td>0</td>\n",
       "    </tr>\n",
       "    <tr>\n",
       "      <th>1</th>\n",
       "      <td>2270</td>\n",
       "      <td>POS</td>\n",
       "      <td>I had a snicker doodle for breakfast. #adulting</td>\n",
       "      <td>0</td>\n",
       "    </tr>\n",
       "    <tr>\n",
       "      <th>2</th>\n",
       "      <td>6452</td>\n",
       "      <td>POS</td>\n",
       "      <td>I slept good 2day I barely sleep any other day...</td>\n",
       "      <td>0</td>\n",
       "    </tr>\n",
       "    <tr>\n",
       "      <th>3</th>\n",
       "      <td>5692</td>\n",
       "      <td>NEG</td>\n",
       "      <td>I can’t believe hit folk singer Charles Manson...</td>\n",
       "      <td>1</td>\n",
       "    </tr>\n",
       "    <tr>\n",
       "      <th>4</th>\n",
       "      <td>6924</td>\n",
       "      <td>POS</td>\n",
       "      <td>@EA $60 triple A title with microtransactions ...</td>\n",
       "      <td>0</td>\n",
       "    </tr>\n",
       "  </tbody>\n",
       "</table>\n",
       "</div>"
      ],
      "text/plain": [
       "     id sentiment                                              tweet  label\n",
       "0  5688       POS  @Janet_Reid  I need help getting my book to ma...      0\n",
       "1  2270       POS    I had a snicker doodle for breakfast. #adulting      0\n",
       "2  6452       POS  I slept good 2day I barely sleep any other day...      0\n",
       "3  5692       NEG  I can’t believe hit folk singer Charles Manson...      1\n",
       "4  6924       POS  @EA $60 triple A title with microtransactions ...      0"
      ]
     },
     "execution_count": 8,
     "metadata": {},
     "output_type": "execute_result"
    }
   ],
   "source": [
    "tweets_test_DF = pd.read_csv('../Dataset-MTSA/tweets_test.tsv', sep=\"\\t\")\n",
    "tweets_test_DF[\"label\"] = tweets_test_DF[\"sentiment\"].apply(lambda x: 1 if x == \"NEG\" else 0)\n",
    "tweets_test_DF.head(5)"
   ]
  },
  {
   "cell_type": "code",
   "execution_count": 12,
   "metadata": {},
   "outputs": [
    {
     "data": {
      "text/html": [
       "<div>\n",
       "<style scoped>\n",
       "    .dataframe tbody tr th:only-of-type {\n",
       "        vertical-align: middle;\n",
       "    }\n",
       "\n",
       "    .dataframe tbody tr th {\n",
       "        vertical-align: top;\n",
       "    }\n",
       "\n",
       "    .dataframe thead th {\n",
       "        text-align: right;\n",
       "    }\n",
       "</style>\n",
       "<table border=\"1\" class=\"dataframe\">\n",
       "  <thead>\n",
       "    <tr style=\"text-align: right;\">\n",
       "      <th></th>\n",
       "      <th>id</th>\n",
       "      <th>sentiment</th>\n",
       "      <th>tweet</th>\n",
       "      <th>label</th>\n",
       "    </tr>\n",
       "  </thead>\n",
       "  <tbody>\n",
       "    <tr>\n",
       "      <th>0</th>\n",
       "      <td>1964</td>\n",
       "      <td>NEG</td>\n",
       "      <td>Tried to eat some chicken tacos after being ve...</td>\n",
       "      <td>1</td>\n",
       "    </tr>\n",
       "    <tr>\n",
       "      <th>1</th>\n",
       "      <td>2128</td>\n",
       "      <td>NEG</td>\n",
       "      <td>Idk what’s messing up worse this COD WWII, U-v...</td>\n",
       "      <td>1</td>\n",
       "    </tr>\n",
       "    <tr>\n",
       "      <th>2</th>\n",
       "      <td>3332</td>\n",
       "      <td>NOT</td>\n",
       "      <td>I️ need to find me a singer and dancer so we c...</td>\n",
       "      <td>0</td>\n",
       "    </tr>\n",
       "    <tr>\n",
       "      <th>3</th>\n",
       "      <td>253</td>\n",
       "      <td>NOT</td>\n",
       "      <td>Now playing Our Turf Football: Goodell vs. Jon...</td>\n",
       "      <td>0</td>\n",
       "    </tr>\n",
       "    <tr>\n",
       "      <th>4</th>\n",
       "      <td>4466</td>\n",
       "      <td>NEG</td>\n",
       "      <td>I miss football :(</td>\n",
       "      <td>1</td>\n",
       "    </tr>\n",
       "  </tbody>\n",
       "</table>\n",
       "</div>"
      ],
      "text/plain": [
       "     id sentiment                                              tweet  label\n",
       "0  1964       NEG  Tried to eat some chicken tacos after being ve...      1\n",
       "1  2128       NEG  Idk what’s messing up worse this COD WWII, U-v...      1\n",
       "2  3332       NOT  I️ need to find me a singer and dancer so we c...      0\n",
       "3   253       NOT  Now playing Our Turf Football: Goodell vs. Jon...      0\n",
       "4  4466       NEG                                 I miss football :(      1"
      ]
     },
     "execution_count": 12,
     "metadata": {},
     "output_type": "execute_result"
    }
   ],
   "source": [
    "tweets_test_DF = pd.read_csv(\"/home/dorotea/Documents/FER/APT/tmp/tweets_50-50.tsv\", sep=\"\\t\")\n",
    "tweets_test_DF[\"label\"] = tweets_test_DF[\"sentiment\"].apply(lambda x: 1 if x == \"NEG\" else 0)\n",
    "tweets_test_DF.head(5)"
   ]
  },
  {
   "cell_type": "code",
   "execution_count": 210,
   "metadata": {},
   "outputs": [],
   "source": [
    "#tweets_test_DF.to_csv('../Dataset-TSA/sentiment500.csv', encoding='utf-8')"
   ]
  },
  {
   "cell_type": "code",
   "execution_count": 121,
   "metadata": {},
   "outputs": [],
   "source": [
    "#tweets500 = tweets_test_DF[:500]\n",
    "#tweets500.to_csv('../Dataset-TSA/sentiment500.csv', encoding='utf-8')\n"
   ]
  },
  {
   "cell_type": "code",
   "execution_count": 12,
   "metadata": {},
   "outputs": [
    {
     "data": {
      "text/plain": [
       "'\\ntweets_test_DF = tweets_test_DF.rename(columns={\"SentimentText\":\"tweet\", \"Sentiment\":\"label_a\", \"ItemID\":\"id\"})\\ntweets_test_DF[\"Unnamed: 0\"] = tweets_test_DF.index\\ntweets_test_DF.to_csv(\\'../Dataset-TSA/sentiment.csv\\', encoding=\\'utf-8\\')\\n'"
      ]
     },
     "execution_count": 12,
     "metadata": {},
     "output_type": "execute_result"
    }
   ],
   "source": [
    "#preparing new data\n",
    "'''\n",
    "tweets_test_DF = tweets_test_DF.rename(columns={\"SentimentText\":\"tweet\", \"Sentiment\":\"label_a\", \"ItemID\":\"id\"})\n",
    "tweets_test_DF[\"Unnamed: 0\"] = tweets_test_DF.index\n",
    "tweets_test_DF[\"label_a\"] = tweets_test_DF[\"label_a\"].apply(lambda x: int(not x))\n",
    "tweets_test_DF = tweets_test_DF.drop(columns=[\"Unnamed: 0.1\"], axis=1)\n",
    "tweets_test_DF[\"subtask_a\"] = tweets_test_DF[\"label_a\"].apply(lambda x: True if x else False)\n",
    "tweets_test_DF.to_csv('../Dataset-TSA/sentiment.csv', encoding='utf-8')\n",
    "'''"
   ]
  },
  {
   "cell_type": "markdown",
   "metadata": {},
   "source": [
    "## 1. Preprocessing"
   ]
  },
  {
   "cell_type": "code",
   "execution_count": 13,
   "metadata": {},
   "outputs": [
    {
     "data": {
      "text/plain": [
       "'\\nfrom nltk.corpus import stopwords\\nfrom nltk.stem import PorterStemmer\\nfrom nltk.tokenize import WordPunctTokenizer\\nfrom nltk.collocations import BigramCollocationFinder\\nfrom nltk.metrics import BigramAssocMeasures\\n'"
      ]
     },
     "execution_count": 13,
     "metadata": {},
     "output_type": "execute_result"
    }
   ],
   "source": [
    "import nltk\n",
    "from nltk import word_tokenize\n",
    "from nltk import ngrams\n",
    "from nltk.tokenize.casual import TweetTokenizer\n",
    "\n",
    "'''\n",
    "from nltk.corpus import stopwords\n",
    "from nltk.stem import PorterStemmer\n",
    "from nltk.tokenize import WordPunctTokenizer\n",
    "from nltk.collocations import BigramCollocationFinder\n",
    "from nltk.metrics import BigramAssocMeasures\n",
    "'''\n"
   ]
  },
  {
   "cell_type": "code",
   "execution_count": 100,
   "metadata": {},
   "outputs": [],
   "source": [
    "# remove unnecessery columns\n",
    "tweets_DF = tweets_DF.rename(columns = {'label_a':'label'})\n",
    "tweets_DF = tweets_DF.drop([\"Unnamed: 0\", \"id\", \"subtask_a\"], axis=1)\n",
    "\n",
    "tweets_test_DF = tweets_test_DF.rename(columns = {'label_a':'label'})\n",
    "tweets_test_DF = tweets_test_DF.drop([\"Unnamed: 0\", \"id\", \"subtask_a\"], axis=1)"
   ]
  },
  {
   "cell_type": "markdown",
   "metadata": {},
   "source": [
    "\n",
    "-----------------\n",
    "\n",
    "Removing @USER"
   ]
  },
  {
   "cell_type": "code",
   "execution_count": 15,
   "metadata": {},
   "outputs": [],
   "source": [
    "import re"
   ]
  },
  {
   "cell_type": "code",
   "execution_count": 16,
   "metadata": {},
   "outputs": [],
   "source": [
    "REMOVE_USER = re.compile(\"@USER\")\n",
    "\n",
    "def remove_user(tweet):\n",
    "    return REMOVE_USER.sub(\"\", tweet)"
   ]
  },
  {
   "cell_type": "code",
   "execution_count": 101,
   "metadata": {},
   "outputs": [],
   "source": [
    "tweets_DF['tweet'] = tweets_DF['tweet'].apply(remove_user)\n",
    "tweets_test_DF['tweet'] = tweets_test_DF['tweet'].apply(remove_user)"
   ]
  },
  {
   "cell_type": "markdown",
   "metadata": {},
   "source": [
    "-------------------------------\n",
    "Extracting emoji"
   ]
  },
  {
   "cell_type": "code",
   "execution_count": 18,
   "metadata": {},
   "outputs": [],
   "source": [
    "import emoji\n",
    "import regex"
   ]
  },
  {
   "cell_type": "code",
   "execution_count": 19,
   "metadata": {},
   "outputs": [],
   "source": [
    "def split_count(text):\n",
    "    emoji_list = []\n",
    "    data = regex.findall(r'\\X', text)\n",
    "    for word in data:\n",
    "        if any(char in emoji.UNICODE_EMOJI for char in word):\n",
    "            emoji_list.append(word)\n",
    "\n",
    "    return emoji_list"
   ]
  },
  {
   "cell_type": "code",
   "execution_count": 102,
   "metadata": {},
   "outputs": [],
   "source": [
    "tweets_DF['emoji'] = tweets_DF['tweet'].apply(split_count)\n",
    "tweets_test_DF['emoji'] = tweets_test_DF['tweet'].apply(split_count)"
   ]
  },
  {
   "cell_type": "markdown",
   "metadata": {},
   "source": [
    "----------------------"
   ]
  },
  {
   "cell_type": "markdown",
   "metadata": {},
   "source": [
    "### B) Sentiment"
   ]
  },
  {
   "cell_type": "code",
   "execution_count": 21,
   "metadata": {},
   "outputs": [],
   "source": [
    "from vaderSentiment.vaderSentiment import SentimentIntensityAnalyzer"
   ]
  },
  {
   "cell_type": "code",
   "execution_count": 22,
   "metadata": {},
   "outputs": [],
   "source": [
    "analyser = SentimentIntensityAnalyzer()\n",
    "\n",
    "def sentiment_analyzer_scores(sentence):\n",
    "    score = analyser.polarity_scores(sentence)\n",
    "    return [score['neg'], score['neu'], score['pos'], score['compound']]"
   ]
  },
  {
   "cell_type": "code",
   "execution_count": 103,
   "metadata": {},
   "outputs": [],
   "source": [
    "tweets_DF['sentiment'] = tweets_DF['tweet'].apply(sentiment_analyzer_scores)\n",
    "tweets_DF['negative_sentiment'] = tweets_DF['sentiment'].apply(lambda row: row[0])\n",
    "tweets_DF['neutral_sentiment'] = tweets_DF['sentiment'].apply(lambda row: row[1])\n",
    "tweets_DF['positive_sentiment'] = tweets_DF['sentiment'].apply(lambda row: row[2])\n",
    "tweets_DF['compound'] = tweets_DF['sentiment'].apply(lambda row: row[3])\n",
    "\n",
    "tweets_DF = tweets_DF.drop([\"sentiment\"], axis=1)"
   ]
  },
  {
   "cell_type": "code",
   "execution_count": 104,
   "metadata": {},
   "outputs": [],
   "source": [
    "tweets_test_DF['sentiment'] = tweets_test_DF['tweet'].apply(sentiment_analyzer_scores)\n",
    "tweets_test_DF['negative_sentiment'] = tweets_test_DF['sentiment'].apply(lambda row: row[0])\n",
    "tweets_test_DF['neutral_sentiment'] = tweets_test_DF['sentiment'].apply(lambda row: row[1])\n",
    "tweets_test_DF['positive_sentiment'] = tweets_test_DF['sentiment'].apply(lambda row: row[2])\n",
    "tweets_test_DF['compound'] = tweets_test_DF['sentiment'].apply(lambda row: row[3])\n",
    "\n",
    "tweets_test_DF = tweets_test_DF.drop([\"sentiment\"], axis=1)"
   ]
  },
  {
   "cell_type": "markdown",
   "metadata": {},
   "source": [
    "-------------------------------\n",
    "### C) Positive, negative and offensive words"
   ]
  },
  {
   "cell_type": "code",
   "execution_count": 25,
   "metadata": {},
   "outputs": [],
   "source": [
    "from nltk import word_tokenize"
   ]
  },
  {
   "cell_type": "code",
   "execution_count": 26,
   "metadata": {},
   "outputs": [],
   "source": [
    "negative_words_file = open(\"negative-words.txt\")\n",
    "negative_words = []\n",
    "\n",
    "positive_words_file = open(\"positive-words.txt\")\n",
    "positive_words = []\n",
    "\n",
    "for line in negative_words_file:\n",
    "    if not str.startswith(line, \";\"):\n",
    "        negative_words.append(line.split(\"\\n\")[0])\n",
    "        \n",
    "negative_words = negative_words[1:]\n",
    "\n",
    "for line in positive_words_file:\n",
    "    if not str.startswith(line, \";\"):\n",
    "        positive_words.append(line.split(\"\\n\")[0])\n",
    "        \n",
    "positive_words = positive_words[1:]"
   ]
  },
  {
   "cell_type": "code",
   "execution_count": 38,
   "metadata": {},
   "outputs": [],
   "source": [
    "def check_for_negative_words(tweet):\n",
    "    tweet = preprocess_tweet(tweet)\n",
    "    tweet = str.lower(tweet)\n",
    "    words = word_tokenize(tweet)\n",
    "    if any(word in negative_words for word in words):\n",
    "        return True\n",
    "    return False\n",
    "\n",
    "def check_for_positive_words(tweet):\n",
    "    tweet = preprocess_tweet(tweet)\n",
    "    tweet = str.lower(tweet)\n",
    "    words = word_tokenize(tweet)\n",
    "    if any(word in positive_words for word in words):\n",
    "        return True\n",
    "    return False"
   ]
  },
  {
   "cell_type": "code",
   "execution_count": 105,
   "metadata": {},
   "outputs": [],
   "source": [
    "tweets_DF['negative_words'] = tweets_DF['tweet'].apply(check_for_negative_words)\n",
    "tweets_test_DF['negative_words'] = tweets_test_DF['tweet'].apply(check_for_negative_words)\n",
    "\n",
    "tweets_DF['positive_words'] = tweets_DF['tweet'].apply(check_for_positive_words)\n",
    "tweets_test_DF['positive_words'] = tweets_test_DF['tweet'].apply(check_for_positive_words)"
   ]
  },
  {
   "cell_type": "code",
   "execution_count": 40,
   "metadata": {},
   "outputs": [
    {
     "data": {
      "text/plain": [
       "True"
      ]
     },
     "execution_count": 40,
     "metadata": {},
     "output_type": "execute_result"
    }
   ],
   "source": [
    "offensive_words_file = open(\"facebook_bad_words.txt\")\n",
    "offensive_words = []\n",
    "\n",
    "for line in offensive_words_file:\n",
    "    offensive_words.append(line.strip())\n",
    "        \n",
    "offensive_words[0] in \"baldjd 2g1c\" "
   ]
  },
  {
   "cell_type": "code",
   "execution_count": 32,
   "metadata": {},
   "outputs": [],
   "source": [
    "def check_for_offensive_words(tweet):\n",
    "    #tweet = preprocess_tweet(tweet)\n",
    "    tweet = str.lower(tweet)\n",
    "    if any(word in tweet for word in offensive_words):\n",
    "        return True\n",
    "    return False"
   ]
  },
  {
   "cell_type": "code",
   "execution_count": 106,
   "metadata": {},
   "outputs": [],
   "source": [
    "tweets_DF['offensive_words'] = tweets_DF['tweet'].apply(check_for_offensive_words)\n",
    "tweets_test_DF['offensive_words'] = tweets_test_DF['tweet'].apply(check_for_offensive_words)"
   ]
  },
  {
   "cell_type": "markdown",
   "metadata": {},
   "source": [
    "----------------------------\n",
    "### D) Removing stopwords, lemmatization"
   ]
  },
  {
   "cell_type": "code",
   "execution_count": 34,
   "metadata": {},
   "outputs": [],
   "source": [
    "english_stop_words = stopwords.words('english')"
   ]
  },
  {
   "cell_type": "code",
   "execution_count": 37,
   "metadata": {},
   "outputs": [],
   "source": [
    "lemmatizer = WordNetLemmatizer() #SnowballStemmer('english')\n",
    "   \n",
    "def preprocess_tweet(tweet, remove_stopwords=False):\n",
    "    #remove all non letters\n",
    "    regex = re.compile('[^a-zA-Z]')\n",
    "    removed_nonalphanumeric = regex.sub(' ', tweet)\n",
    "    lowercased_tweet = str.lower(removed_nonalphanumeric)\n",
    "\n",
    "    #remove stopwords\n",
    "    if remove_stopwords:\n",
    "        lowercased_tweet = \" \".join(word if word not in english_stop_words else \"\" for word in lowercased_tweet.split())\n",
    "    \n",
    "    #lemmatization\n",
    "    lemmatized = ' '.join([lemmatizer.lemmatize(word) for word in lowercased_tweet.split()])\n",
    "    return lemmatized\n",
    "    "
   ]
  },
  {
   "cell_type": "code",
   "execution_count": 36,
   "metadata": {},
   "outputs": [
    {
     "name": "stdout",
     "output_type": "stream",
     "text": [
      "Amazon is investigating Chinese employees who are selling internal data to third-party sellers looking for an edge in the competitive marketplace. URL #Amazon #MAGA #KAG #CHINA #TCOT \n",
      "\n",
      "amazon is investigating chinese employee who are selling internal data to third party seller looking for an edge in the competitive marketplace url amazon maga kag china tcot\n"
     ]
    },
    {
     "data": {
      "text/plain": [
       "'amazon investigating chinese employee selling internal data third party seller looking edge competitive marketplace url amazon maga kag china tcot'"
      ]
     },
     "execution_count": 36,
     "metadata": {},
     "output_type": "execute_result"
    }
   ],
   "source": [
    "tweet = tweets_DF['tweet'][2]\n",
    "print(tweet, \"\\n\")\n",
    "print(preprocess_tweet(tweet, False))\n",
    "preprocess_tweet(tweet, True)"
   ]
  },
  {
   "cell_type": "code",
   "execution_count": 107,
   "metadata": {},
   "outputs": [],
   "source": [
    "tweets_DF['clean_tweet_with_stopwords'] = tweets_DF['tweet'].apply(preprocess_tweet, False)\n",
    "tweets_DF['clean_tweet_without_stopwords'] = tweets_DF['tweet'].apply(preprocess_tweet, True)\n",
    "\n",
    "tweets_test_DF['clean_tweet_with_stopwords'] = tweets_test_DF['tweet'].apply(preprocess_tweet, False)\n",
    "tweets_test_DF['clean_tweet_without_stopwords'] = tweets_test_DF['tweet'].apply(preprocess_tweet, True)"
   ]
  },
  {
   "cell_type": "markdown",
   "metadata": {},
   "source": [
    "### E) Word embeddings"
   ]
  },
  {
   "cell_type": "code",
   "execution_count": 43,
   "metadata": {},
   "outputs": [],
   "source": [
    "from gensim.models import KeyedVectors, word2vec\n",
    "from gensim.test.utils import common_texts, get_tmpfile"
   ]
  },
  {
   "cell_type": "code",
   "execution_count": 108,
   "metadata": {},
   "outputs": [],
   "source": [
    "corpus = tweets_DF['clean_tweet_with_stopwords'].values\n",
    "\n",
    "# we need to pass splitted sentences to the model\n",
    "tokenized_sentences = [sentence.split() for sentence in corpus]\n",
    "model = word2vec.Word2Vec(tokenized_sentences, min_count=1)\n",
    "#model.save(\"word2vec.model\")"
   ]
  },
  {
   "cell_type": "code",
   "execution_count": 45,
   "metadata": {},
   "outputs": [],
   "source": [
    "model = word2vec.Word2Vec.load(\"word2vec.model\")\n",
    "#model.train(corpus, total_examples=1000, epochs=10)\n",
    "#model.save(\"word2vec.model\")"
   ]
  },
  {
   "cell_type": "code",
   "execution_count": null,
   "metadata": {},
   "outputs": [],
   "source": [
    "model.vocabulary"
   ]
  },
  {
   "cell_type": "code",
   "execution_count": 46,
   "metadata": {},
   "outputs": [],
   "source": [
    "def embedd(sentance):\n",
    "    tokens = sentance.split()\n",
    "    summed_embedding = np.zeros(100)\n",
    "    for token in tokens:\n",
    "        if token in model.wv:\n",
    "            summed_embedding += model.wv[token]\n",
    "        \n",
    "        \n",
    "    return summed_embedding/len(tokens)"
   ]
  },
  {
   "cell_type": "code",
   "execution_count": 47,
   "metadata": {},
   "outputs": [],
   "source": [
    "tknz = TweetTokenizer()\n",
    "tweets_test_DF['clean_tweet_with_stopwords'] = tweets_test_DF['tweet'].apply(preprocess_tweet)#(tknz.tokenize).apply(\" \".join)"
   ]
  },
  {
   "cell_type": "code",
   "execution_count": 48,
   "metadata": {},
   "outputs": [],
   "source": [
    "tweets_DF['embedding'] = tweets_DF['clean_tweet_with_stopwords'].apply(embedd)\n",
    "tweets_test_DF['embedding'] = tweets_test_DF['clean_tweet_with_stopwords'].apply(embedd)"
   ]
  },
  {
   "cell_type": "markdown",
   "metadata": {},
   "source": [
    "## 2. Models\n",
    "------------------------------------\n",
    "\n",
    "### 2.1 Model: sentiment"
   ]
  },
  {
   "cell_type": "code",
   "execution_count": 109,
   "metadata": {},
   "outputs": [],
   "source": [
    "#creating train, test \n",
    "sentiment = tweets_DF[[\"negative_sentiment\", \"negative_words\", \"offensive_words\"]].values\n",
    "y = tweets_DF['label'].values\n",
    "\n",
    "X_test_sentiment = tweets_test_DF[[\"negative_sentiment\", \"negative_words\", \"offensive_words\"]].values\n",
    "y_test_sentiment = tweets_test_DF['label'].values\n",
    "\n",
    "X_train_sentiment, X_val_sentiment, y_train_sentiment, y_val_sentiment = train_test_split(sentiment, y, test_size=0.2, random_state=1000)"
   ]
  },
  {
   "cell_type": "code",
   "execution_count": 110,
   "metadata": {},
   "outputs": [
    {
     "name": "stdout",
     "output_type": "stream",
     "text": [
      "Accuracy: 0.7802325581395348\n"
     ]
    }
   ],
   "source": [
    "classifier_sentiment = LogisticRegression(max_iter=1000, multi_class='multinomial')\n",
    "classifier_sentiment.fit(X_train_sentiment, y_train_sentiment)\n",
    "score = classifier_sentiment.score(X_test_sentiment, y_test_sentiment)\n",
    "\n",
    "print(\"Accuracy:\", score)"
   ]
  },
  {
   "cell_type": "code",
   "execution_count": 111,
   "metadata": {},
   "outputs": [
    {
     "data": {
      "text/plain": [
       "0.47645429362880887"
      ]
     },
     "execution_count": 111,
     "metadata": {},
     "output_type": "execute_result"
    }
   ],
   "source": [
    "y_pred = classifier_sentiment.predict(X_test_sentiment)\n",
    "f1_score(y_test_sentiment, y_pred)"
   ]
  },
  {
   "cell_type": "markdown",
   "metadata": {},
   "source": [
    "### 2.2 Model : tf_idf"
   ]
  },
  {
   "cell_type": "code",
   "execution_count": 112,
   "metadata": {},
   "outputs": [],
   "source": [
    "tweets = tweets_DF['tweet'].values\n",
    "y = tweets_DF['label'].values\n",
    "\n",
    "tweets_test = tweets_test_DF['tweet'].values\n",
    "y_test = tweets_test_DF['label'].values\n",
    "\n",
    "vectorizer_tf = TfidfVectorizer()\n",
    "vectorizer_tf.fit(tweets)\n",
    "\n",
    "tweets_train, tweets_valid, y_train, y_valid = train_test_split(tweets, y, test_size=0.2, random_state=1000)\n",
    "\n",
    "X_train_tfidf = vectorizer_tf.transform(tweets_train)\n",
    "X_valid_tfidf = vectorizer_tf.transform(tweets_valid)\n",
    "X_test_tfidf  = vectorizer_tf.transform(tweets_test)"
   ]
  },
  {
   "cell_type": "code",
   "execution_count": 113,
   "metadata": {},
   "outputs": [
    {
     "name": "stdout",
     "output_type": "stream",
     "text": [
      "Accuracy: 0.7906976744186046\n"
     ]
    }
   ],
   "source": [
    "classifier_tfidf = LogisticRegression(max_iter=100)\n",
    "classifier_tfidf.fit(X_train_tfidf, y_train)\n",
    "score = classifier_tfidf.score(X_test_tfidf, y_test)\n",
    "\n",
    "print(\"Accuracy:\", score)"
   ]
  },
  {
   "cell_type": "code",
   "execution_count": 115,
   "metadata": {},
   "outputs": [
    {
     "data": {
      "text/plain": [
       "0.44099378881987583"
      ]
     },
     "execution_count": 115,
     "metadata": {},
     "output_type": "execute_result"
    }
   ],
   "source": [
    "y_pred = classifier_tfidf.predict(X_test_tfidf)\n",
    "f1_score(y_test, y_pred)"
   ]
  },
  {
   "cell_type": "markdown",
   "metadata": {},
   "source": [
    "### 2.3 Model: count_vector, clean data: char-based and word-based\n",
    "- Old data voc size: 19083\n",
    "- New data voc size: 16622"
   ]
  },
  {
   "cell_type": "code",
   "execution_count": 116,
   "metadata": {},
   "outputs": [],
   "source": [
    "tweets = tweets_DF['clean_tweet_without_stopwords'].values\n",
    "y = tweets_DF['label'].values\n",
    "\n",
    "tweets_test = tweets_test_DF['clean_tweet_without_stopwords'].values\n",
    "y_test = tweets_test_DF['label'].values\n",
    "\n",
    "char_vectorizer = CountVectorizer(binary=True, analyzer='char' , ngram_range=(3, 5))\n",
    "char_vectorizer.fit(tweets)\n",
    "\n",
    "tweets_train, tweets_valid, y_train, y_valid = train_test_split(tweets, y, test_size=0.2, random_state=1000)\n",
    "\n",
    "X_train_clean = char_vectorizer.transform(tweets_train)\n",
    "X_valid_clean = char_vectorizer.transform(tweets_valid)\n",
    "X_test_clean  = char_vectorizer.transform(tweets_test)"
   ]
  },
  {
   "cell_type": "code",
   "execution_count": 117,
   "metadata": {},
   "outputs": [
    {
     "name": "stdout",
     "output_type": "stream",
     "text": [
      "Accuracy: 0.7662790697674419\n"
     ]
    }
   ],
   "source": [
    "classifier_char = LogisticRegression(max_iter=1000)\n",
    "classifier_char.fit(X_train_clean, y_train)\n",
    "score = classifier_char.score(X_test_clean, y_test)\n",
    "\n",
    "print(\"Accuracy:\", score)"
   ]
  },
  {
   "cell_type": "code",
   "execution_count": 118,
   "metadata": {},
   "outputs": [
    {
     "data": {
      "text/plain": [
       "0.5400457665903889"
      ]
     },
     "execution_count": 118,
     "metadata": {},
     "output_type": "execute_result"
    }
   ],
   "source": [
    "y_pred = classifier_char.predict(X_test_clean)\n",
    "f1_score(y_test, y_pred)"
   ]
  },
  {
   "cell_type": "markdown",
   "metadata": {},
   "source": [
    "------------------------------"
   ]
  },
  {
   "cell_type": "code",
   "execution_count": 119,
   "metadata": {},
   "outputs": [],
   "source": [
    "tweets = tweets_DF['clean_tweet_without_stopwords'].values\n",
    "y = tweets_DF['label'].values\n",
    "\n",
    "tweets_test = tweets_test_DF['clean_tweet_without_stopwords'].values\n",
    "y_test = tweets_test_DF['label'].values\n",
    "\n",
    "vectorizer = CountVectorizer(binary=True,  ngram_range=(1, 3))\n",
    "vectorizer.fit(tweets)\n",
    "\n",
    "tweets_train, tweets_valid, y_train, y_valid = train_test_split(tweets, y, test_size=0.2, random_state=1000)\n",
    "\n",
    "X_train_clean = vectorizer.transform(tweets_train)\n",
    "X_valid_clean = vectorizer.transform(tweets_valid)\n",
    "X_test_clean  = vectorizer.transform(tweets_test)"
   ]
  },
  {
   "cell_type": "code",
   "execution_count": 120,
   "metadata": {},
   "outputs": [
    {
     "name": "stdout",
     "output_type": "stream",
     "text": [
      "Accuracy: 0.8\n"
     ]
    }
   ],
   "source": [
    "classifier_clean = LogisticRegression(max_iter=1000)\n",
    "classifier_clean.fit(X_train_clean, y_train)\n",
    "score = classifier_clean.score(X_test_clean, y_test)\n",
    "\n",
    "print(\"Accuracy:\", score)"
   ]
  },
  {
   "cell_type": "code",
   "execution_count": 121,
   "metadata": {},
   "outputs": [
    {
     "data": {
      "text/plain": [
       "0.5300546448087432"
      ]
     },
     "execution_count": 121,
     "metadata": {},
     "output_type": "execute_result"
    }
   ],
   "source": [
    "y_pred = classifier_clean.predict(X_test_clean)\n",
    "f1_score(y_test, y_pred)"
   ]
  },
  {
   "cell_type": "markdown",
   "metadata": {},
   "source": [
    "----------------------------"
   ]
  },
  {
   "cell_type": "code",
   "execution_count": 160,
   "metadata": {},
   "outputs": [
    {
     "name": "stdout",
     "output_type": "stream",
     "text": [
      "Accuracy: 0.7599056603773585\n"
     ]
    }
   ],
   "source": [
    "X_train_clean = vectorizer.transform(tweets[:9000])\n",
    "X_test_clean  = vectorizer.transform(tweets[9000:])\n",
    "y_train = y[:9000]\n",
    "y_test = y[9000:]\n",
    "\n",
    "classifier_clean = LogisticRegression(max_iter=1000)\n",
    "classifier_clean.fit(X_train_clean, y_train)\n",
    "score = classifier_clean.score(X_test_clean, y_test)\n",
    "\n",
    "print(\"Accuracy:\", score)"
   ]
  },
  {
   "cell_type": "markdown",
   "metadata": {},
   "source": [
    "Failed to predicit:"
   ]
  },
  {
   "cell_type": "code",
   "execution_count": null,
   "metadata": {},
   "outputs": [],
   "source": [
    "prediction = classifier_clean.predict(X_test_clean)\n",
    "z = zip(prediction, y_test, range(9000, 9000+len(prediction)))\n",
    "indices = np.array([i if p1!=p2 else -1 for p1, p2, i in z ])\n",
    "indices = indices[indices>0]\n",
    "for i in indices:\n",
    "    print(tweets_DF['label'][i],tweets_DF['tweet'][i], tweets_DF['negative_words'][i],  \"\\n\")"
   ]
  },
  {
   "cell_type": "markdown",
   "metadata": {},
   "source": [
    "### 2.4 Word embeddings"
   ]
  },
  {
   "cell_type": "code",
   "execution_count": 161,
   "metadata": {},
   "outputs": [],
   "source": [
    "tweets = tweets_DF['embedding'].values\n",
    "tweets = np.array([np.array(t) for t in tweets]).reshape(-1, 100)\n",
    "y = tweets_DF['label'].values\n",
    "\n",
    "tweets_test = tweets_test_DF['embedding'].values\n",
    "X_test_embedding = np.array([np.array(t) for t in tweets_test]).reshape(-1, 100)\n",
    "y_test = tweets_test_DF['label'].values\n",
    "\n",
    "X_train_embedding, X_val_embedding, y_train, y_val = train_test_split(tweets, y, test_size=0.25, random_state=1000)"
   ]
  },
  {
   "cell_type": "code",
   "execution_count": 162,
   "metadata": {},
   "outputs": [
    {
     "name": "stdout",
     "output_type": "stream",
     "text": [
      "Accuracy: 0.326\n"
     ]
    }
   ],
   "source": [
    "classifier_embedding = LogisticRegression(max_iter=1000)\n",
    "classifier_embedding.fit(X_train_embedding, y_train)\n",
    "score = classifier_embedding.score(X_test_embedding, y_test)\n",
    "\n",
    "print(\"Accuracy:\", score)"
   ]
  },
  {
   "cell_type": "code",
   "execution_count": 163,
   "metadata": {},
   "outputs": [
    {
     "data": {
      "text/plain": [
       "0.0"
      ]
     },
     "execution_count": 163,
     "metadata": {},
     "output_type": "execute_result"
    }
   ],
   "source": [
    "y_pred = classifier_embedding.predict(X_test_embedding)\n",
    "f1_score(y_test, y_pred)"
   ]
  },
  {
   "cell_type": "code",
   "execution_count": 122,
   "metadata": {},
   "outputs": [],
   "source": [
    "def ansamble(sentence):\n",
    "    \n",
    "    sentence = remove_user(sentence)\n",
    "    neg, neu, pos, comp =  sentiment_analyzer_scores(sentence)\n",
    "    negative_words = check_for_negative_words(sentence)\n",
    "    offensive_words = check_for_offensive_words(sentence)\n",
    "    \n",
    "    preproc_with_stopwords = preprocess_tweet(sentence)\n",
    "    preproc_no_stopwords = preprocess_tweet(sentence, True)\n",
    "    \n",
    "    #emb1 = embedd(preproc_with_stopwords)\n",
    "    #emb2 = embedd(preproc_no_stopwords)\n",
    "    \n",
    "    score1 = classifier_sentiment.predict([[neg, negative_words, offensive_words]])\n",
    "    \n",
    "    tfidf = vectorizer_tf.transform([sentence])\n",
    "    score2 = classifier_tfidf.predict(tfidf)\n",
    "    \n",
    "    count = vectorizer.transform([preproc_no_stopwords])\n",
    "    score3 = classifier_clean.predict(count)\n",
    "    \n",
    "    count = char_vectorizer.transform([preproc_no_stopwords])\n",
    "    score4 = classifier_char.predict(count)\n",
    "    \n",
    "    #score5 = classifier_embedding.predict([emb1])\n",
    "    \n",
    "    if not any(w in model.wv for w in preproc_no_stopwords.split()):# and score4[0]:\n",
    "            return score4[0]\n",
    "    \n",
    "    vote = collections.Counter([score1[0], score2[0], score3[0], score4[0], score3[0]])\n",
    "    if vote[0] > 3:\n",
    "        return 0\n",
    "    else:\n",
    "        return 1"
   ]
  },
  {
   "cell_type": "code",
   "execution_count": 123,
   "metadata": {},
   "outputs": [
    {
     "name": "stdout",
     "output_type": "stream",
     "text": [
      "0.827906976744186\n",
      "0.8484848484848485\n",
      "0.4666666666666667\n",
      "0.6021505376344086\n"
     ]
    }
   ],
   "source": [
    "test_tweets = tweets_test_DF['tweet'].values\n",
    "y = tweets_test_DF['label'].values\n",
    "\n",
    "y_pred = [ansamble(t) for t in test_tweets]\n",
    "\n",
    "print(accuracy_score(y, y_pred))\n",
    "print(precision_score(y, y_pred))\n",
    "print(recall_score(y, y_pred))\n",
    "print(f1_score(y, y_pred))"
   ]
  },
  {
   "cell_type": "markdown",
   "metadata": {},
   "source": [
    "## 3.Test sentance"
   ]
  },
  {
   "cell_type": "code",
   "execution_count": null,
   "metadata": {},
   "outputs": [],
   "source": [
    "def test(sentence):\n",
    "    label = [\"NOT\", \"OFF\"]\n",
    "    \n",
    "    sentence = remove_user(sentence)\n",
    "    neg, neu, pos, comp =  sentiment_analyzer_scores(sentence)\n",
    "    negative_words = check_for_negative_words(sentence)\n",
    "    offensive_words = check_for_offensive_words(sentence)\n",
    "    \n",
    "    preproc_with_stopwords = preprocess_tweet(sentence)\n",
    "    preproc_no_stopwords = preprocess_tweet(sentence, True)\n",
    "    \n",
    "    emb1 = embedd(preproc_with_stopwords)\n",
    "    emb2 = embedd(preproc_no_stopwords)\n",
    "    \n",
    "    score1 = classifier_sentiment.predict([[neg, negative_words, offensive_words]])\n",
    "    print(\"Features:    Classified as:\", label[score1[0]])\n",
    "    \n",
    "    tfidf = vectorizer_tf.transform([sentence])\n",
    "    score2 = classifier_tfidf.predict(tfidf)\n",
    "    print(\"TF_idf:      Classified as:\", label[score2[0]])\n",
    "    \n",
    "    count = vectorizer.transform([preproc_no_stopwords])\n",
    "    score3 = classifier_clean.predict(count)\n",
    "    print(\"Ngrams:      Classified as:\", label[score3[0]])\n",
    "    \n",
    "    count = char_vectorizer.transform([preproc_no_stopwords])\n",
    "    score4 = classifier_char.predict(count)\n",
    "    print(\"Char-ngrams: Classified as:\", label[score4[0]])\n",
    "    \n",
    "    score5 = classifier_embedding.predict([emb1])\n",
    "    print(\"Embeddings:  Classified as:\", label[score5[0]])\n",
    "    \n",
    "    score6 = ansamble(sentence)\n",
    "    print(\"Ansamble:    Classified as:\", label[score6])\n",
    "    "
   ]
  },
  {
   "cell_type": "code",
   "execution_count": null,
   "metadata": {},
   "outputs": [],
   "source": [
    "test(\"Are you fuckisiiifn in?\")\n",
    "a = \"Are you fuckisiiifn in?\"\n",
    "any([w in model.wv for w in a.split()])"
   ]
  },
  {
   "cell_type": "markdown",
   "metadata": {},
   "source": [
    "---------------------------------\n",
    "## 4. Testing correlation\n",
    "__Tested correlation of some features and labels__"
   ]
  },
  {
   "cell_type": "code",
   "execution_count": null,
   "metadata": {},
   "outputs": [],
   "source": [
    "y_pred = tweets_DF['label'].values\n",
    "y_negative_words = tweets_DF['negative_words'].values\n",
    "y_offensive_words = tweets_DF['offensive_words'].values\n",
    "y_negative_sentiment = tweets_DF['negative_sentiment'].values\n",
    "y_negative_sentiment = [1 if neg > 0  else 0 for neg in y_negative_sentiment]\n",
    "\n",
    "print(\"Tweet contains negative word: \", matthews_corrcoef(y_pred, y_negative_words))\n",
    "print(\"Tweet has some negative sentiment: \", matthews_corrcoef(y_pred, y_negative_sentiment))\n",
    "print(\"Tweet contains offensive words: \", matthews_corrcoef(y_pred, y_offensive_words))"
   ]
  },
  {
   "cell_type": "markdown",
   "metadata": {},
   "source": [
    "## 5. Drawing"
   ]
  },
  {
   "cell_type": "code",
   "execution_count": 63,
   "metadata": {},
   "outputs": [],
   "source": [
    "import matplotlib.pyplot as plt"
   ]
  },
  {
   "cell_type": "code",
   "execution_count": 128,
   "metadata": {},
   "outputs": [
    {
     "data": {
      "image/png": "[encoded data removed]",
      "text/plain": [
       "<Figure size 432x288 with 1 Axes>"
      ]
     },
     "metadata": {},
     "output_type": "display_data"
    }
   ],
   "source": [
    "\n",
    "x = [\n",
    "    \"Negativity features\",\n",
    "    \"TF_IDF\",\n",
    "    \"char n-grams\",\n",
    "    \"word n-grams\",\n",
    "    \"ensemble\"\n",
    "]\n",
    "#x = date2num(x)\n",
    "\n",
    "olid = [0.78, 0.79, 0.76, 0.8, 0.828]\n",
    "mts = [0.705, 0.73, 0.708, 0.743, 0.752]\n",
    "\n",
    "x_pos = np.arange(len(x))\n",
    "ax = plt.subplot(111)\n",
    "ax.bar(x_pos-0.1, olid, width=0.2, color='purple', align='center')\n",
    "ax.bar(x_pos+0.1, mts, width=0.2, color='pink', align='center')\n",
    "#ax.bar(x_pos+0.2, k, width=0.2, color='r', align='center')\n",
    "plt.xticks(x_pos, x, rotation=20)\n",
    "plt.ylabel(\"Accuracy\")\n",
    "plt.xlabel(\"Model\")\n",
    "\n",
    "\n",
    "\n",
    "plt.show()"
   ]
  },
  {
   "cell_type": "markdown",
   "metadata": {},
   "source": [
    "## TODO\n",
    "https://docs.google.com/document/d/1OdniS8GEYwaFJy_zNC5GpXkceuGxmOtPK_dV9QAecho/edit"
   ]
  },
  {
   "cell_type": "markdown",
   "metadata": {},
   "source": [
    "----------------------------"
   ]
  },
  {
   "cell_type": "markdown",
   "metadata": {},
   "source": [
    "---------------------"
   ]
  }
 ],
 "metadata": {
  "kernelspec": {
   "display_name": "Python 3",
   "language": "python",
   "name": "python3"
  },
  "language_info": {
   "codemirror_mode": {
    "name": "ipython",
    "version": 3
   },
   "file_extension": ".py",
   "mimetype": "text/x-python",
   "name": "python",
   "nbconvert_exporter": "python",
   "pygments_lexer": "ipython3",
   "version": "3.6.9"
  }
 },
 "nbformat": 4,
 "nbformat_minor": 2
}
