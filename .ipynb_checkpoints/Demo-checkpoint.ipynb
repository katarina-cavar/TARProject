{
 "cells": [
  {
   "cell_type": "markdown",
   "metadata": {},
   "source": [
    "# Demo"
   ]
  },
  {
   "cell_type": "code",
   "execution_count": 37,
   "metadata": {},
   "outputs": [],
   "source": [
    "# Imports\n",
    "import numpy as np\n",
    "from DeepLearning.final_scripts.data_processing import DataReader, Preprocessor, prec, rec, f1\n",
    "from DeepLearning.final_scripts.new_prints import line_print, title_print\n",
    "\n",
    "#from DeepLearning.final_scritps.dl_models import BiLSTM2_CNN3_model\n",
    "from tensorflow.keras.models import load_model\n",
    "from tensorflow.keras.preprocessing.sequence import pad_sequences\n",
    "import pickle"
   ]
  },
  {
   "cell_type": "code",
   "execution_count": 18,
   "metadata": {},
   "outputs": [],
   "source": [
    "MODEL_FOLDER = \"./DeepLearning/final_scripts/models/\"\n",
    "MODEL = \"modelKeras2_type=BiLSTM2_CNN3_model_proc=remove_stopwords_and_punctuation_textblob_epochs=10_emb_dim=300_vocab=7500\"\n",
    "TOKENIZER = \"./DeepLearning/final_scripts/tokenizers/tokenizer_maxlen=64.pickle\"\n"
   ]
  },
  {
   "cell_type": "code",
   "execution_count": 27,
   "metadata": {},
   "outputs": [],
   "source": [
    "def test(sen, lab, tokenizer, model):\n",
    "    x = np.array([sen])\n",
    "    y = np.array([lab])\n",
    "    \n",
    "    pp = Preprocessor()\n",
    "    \n",
    "    proc_x = pp.remove_stopwords_and_punctuation_textblob(x.copy(), verbose=False)\n",
    "    x_seq = tokenizer.texts_to_sequences(proc_x)\n",
    "    x_pad = pad_sequences(x_seq, maxlen=64, padding=\"post\", truncating=\"post\")\n",
    "    \n",
    "    y_pred = model.predict(x_pad)\n",
    "    print(\"Sentence = {}\\n\\tPredicted: {}, True: {}\".format(sen, y_pred[0], y))\n",
    "\n",
    "    \n",
    "    \n",
    "handle = open(TOKENIZER, \"rb\")\n",
    "tokenizer = pickle.load(handle)\n",
    "handle.close()\n",
    "\n",
    "model = load_model(MODEL_FOLDER + MODEL, custom_objects={\"prec\": prec, \"rec\": rec, \"f1\": f1})"
   ]
  },
  {
   "cell_type": "markdown",
   "metadata": {},
   "source": [
    "## Playground"
   ]
  },
  {
   "cell_type": "code",
   "execution_count": 40,
   "metadata": {},
   "outputs": [
    {
     "name": "stdout",
     "output_type": "stream",
     "text": [
      "\n",
      "Random\n",
      "------\n",
      "Sentence = This is a sentence\n",
      "\tPredicted: [0.2047927], True: [0]\n",
      "Sentence = Fuck\n",
      "\tPredicted: [0.96957344], True: [1]\n",
      "Sentence = Come here you little shit\n",
      "\tPredicted: [0.97843117], True: [1]\n",
      "Sentence = Such a beautiful day, don't you love it?\n",
      "\tPredicted: [0.03533023], True: [0]\n",
      "\n",
      "Roses\n",
      "-----\n",
      "Sentence = Roses are my type of flowers\n",
      "\tPredicted: [0.04456804], True: [0]\n",
      "Sentence = Roses are my favorite flowers\n",
      "\tPredicted: [0.05113927], True: [0]\n",
      "Sentence = Roses are your favorite flowers? How disgusting!\n",
      "\tPredicted: [0.84665203], True: [1]\n",
      "Sentence = Roses are your favorite flowers? You are so stupid!! How disgusting!\n",
      "\tPredicted: [0.9809996], True: [1]\n",
      "\n",
      "Love\n",
      "----\n",
      "Sentence = I love you\n",
      "\tPredicted: [0.0902343], True: [0]\n",
      "Sentence = I love stupid people\n",
      "\tPredicted: [0.96651036], True: [1]\n",
      "Sentence = I love racism\n",
      "\tPredicted: [0.31960207], True: [1]\n",
      "Sentence = I love niggas\n",
      "\tPredicted: [0.75767326], True: [1]\n",
      "\n",
      "Depression - (Sentiment analysis -> these would be Negative!)\n",
      "-------------------------------------------------------------\n",
      "Sentence = I feel sad\n",
      "\tPredicted: [0.3129036], True: [0]\n",
      "Sentence = I am sad\n",
      "\tPredicted: [0.36483186], True: [0]\n",
      "Sentence = I feel depressed.\n",
      "\tPredicted: [0.28710312], True: [0]\n"
     ]
    }
   ],
   "source": [
    "RANDOM = [(\"This is a sentence\", 0), (\"Fuck\", 1), (\"Come here you little shit\", 1), \n",
    "         (\"Such a beautiful day, don't you love it?\", 0)]\n",
    "\n",
    "ROSES = [(\"Roses are my type of flowers\", 0), \n",
    "        (\"Roses are my favorite flowers\", 0), (\"Roses are your favorite flowers? How disgusting!\", 1),\n",
    "        (\"Roses are your favorite flowers? You are so stupid!! How disgusting!\", 1)]\n",
    "\n",
    "LOVE = [(\"I love you\", 0), (\"I love stupid people\", 1), (\"I love racism\", 1), \n",
    "        (\"I love niggas\", 1)]\n",
    "\n",
    "DEPRESSION = [(\"I feel sad\", 0), (\"I am sad\", 0), (\"I feel depressed.\", 0)]\n",
    "\n",
    "line_print(\"Random\")\n",
    "for sen, lab in RANDOM: \n",
    "    test(sen, lab, tokenizer, model)\n",
    "\n",
    "line_print(\"Roses\")\n",
    "for sen, lab in ROSES: \n",
    "    test(sen, lab, tokenizer, model)\n",
    "\n",
    "line_print(\"Love\")\n",
    "for sen, lab in LOVE: \n",
    "    test(sen, lab, tokenizer, model)\n",
    "\n",
    "line_print(\"Depression - (Sentiment analysis -> these would be Negative!)\")\n",
    "for sen, lab in DEPRESSION: \n",
    "    test(sen, lab, tokenizer, model)\n"
   ]
  },
  {
   "cell_type": "code",
   "execution_count": 30,
   "metadata": {},
   "outputs": [
    {
     "name": "stdout",
     "output_type": "stream",
     "text": [
      "Sentence = Come here you little shit!!!\n",
      "\tPredicted: [0.97843117], True: [1]\n"
     ]
    }
   ],
   "source": [
    "SEN = \"Come here you little shit!!!\"\n",
    "LABEL = 1\n",
    "\n",
    "test(SEN, LABEL, tokenizer, model)"
   ]
  },
  {
   "cell_type": "code",
   "execution_count": null,
   "metadata": {},
   "outputs": [],
   "source": []
  }
 ],
 "metadata": {
  "kernelspec": {
   "display_name": "Python 3",
   "language": "python",
   "name": "python3"
  },
  "language_info": {
   "codemirror_mode": {
    "name": "ipython",
    "version": 3
   },
   "file_extension": ".py",
   "mimetype": "text/x-python",
   "name": "python",
   "nbconvert_exporter": "python",
   "pygments_lexer": "ipython3",
   "version": "3.7.4"
  }
 },
 "nbformat": 4,
 "nbformat_minor": 2
}
